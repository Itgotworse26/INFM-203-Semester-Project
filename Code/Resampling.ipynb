{
 "cells": [
  {
   "cell_type": "code",
   "execution_count": 1,
   "metadata": {},
   "outputs": [],
   "source": [
    "import warnings\n",
    "warnings.filterwarnings('ignore')"
   ]
  },
  {
   "cell_type": "code",
   "execution_count": 2,
   "metadata": {},
   "outputs": [],
   "source": [
    "import numpy as np\n",
    "import pandas as pd\n",
    "from pathlib import Path\n",
    "from collections import Counter\n",
    "import dataframe_image as dfi"
   ]
  },
  {
   "cell_type": "code",
   "execution_count": 3,
   "metadata": {},
   "outputs": [
    {
     "data": {
      "text/html": [
       "<div>\n",
       "<style scoped>\n",
       "    .dataframe tbody tr th:only-of-type {\n",
       "        vertical-align: middle;\n",
       "    }\n",
       "\n",
       "    .dataframe tbody tr th {\n",
       "        vertical-align: top;\n",
       "    }\n",
       "\n",
       "    .dataframe thead th {\n",
       "        text-align: right;\n",
       "    }\n",
       "</style>\n",
       "<table border=\"1\" class=\"dataframe\">\n",
       "  <thead>\n",
       "    <tr style=\"text-align: right;\">\n",
       "      <th></th>\n",
       "      <th>Unnamed: 0</th>\n",
       "      <th>Name</th>\n",
       "      <th>Platform</th>\n",
       "      <th>Year_of_Release</th>\n",
       "      <th>Genre</th>\n",
       "      <th>Publisher</th>\n",
       "      <th>Global_Sales</th>\n",
       "      <th>Critic_Score</th>\n",
       "      <th>Developer</th>\n",
       "      <th>Rating</th>\n",
       "    </tr>\n",
       "  </thead>\n",
       "  <tbody>\n",
       "    <tr>\n",
       "      <th>0</th>\n",
       "      <td>42</td>\n",
       "      <td>Grand Theft Auto V</td>\n",
       "      <td>PS4</td>\n",
       "      <td>2014</td>\n",
       "      <td>Action</td>\n",
       "      <td>Take-Two Interactive</td>\n",
       "      <td>12610000</td>\n",
       "      <td>97</td>\n",
       "      <td>Rockstar North</td>\n",
       "      <td>M</td>\n",
       "    </tr>\n",
       "    <tr>\n",
       "      <th>1</th>\n",
       "      <td>62</td>\n",
       "      <td>New Super Mario Bros. 2</td>\n",
       "      <td>3DS</td>\n",
       "      <td>2012</td>\n",
       "      <td>Platform</td>\n",
       "      <td>Nintendo</td>\n",
       "      <td>9900000</td>\n",
       "      <td>78</td>\n",
       "      <td>Nintendo</td>\n",
       "      <td>E</td>\n",
       "    </tr>\n",
       "    <tr>\n",
       "      <th>2</th>\n",
       "      <td>73</td>\n",
       "      <td>Animal Crossing: New Leaf</td>\n",
       "      <td>3DS</td>\n",
       "      <td>2012</td>\n",
       "      <td>Simulation</td>\n",
       "      <td>Nintendo</td>\n",
       "      <td>9160000</td>\n",
       "      <td>88</td>\n",
       "      <td>Nintendo</td>\n",
       "      <td>E</td>\n",
       "    </tr>\n",
       "    <tr>\n",
       "      <th>3</th>\n",
       "      <td>77</td>\n",
       "      <td>FIFA 16</td>\n",
       "      <td>PS4</td>\n",
       "      <td>2015</td>\n",
       "      <td>Sports</td>\n",
       "      <td>Electronic Arts</td>\n",
       "      <td>8570000</td>\n",
       "      <td>82</td>\n",
       "      <td>EA Sports</td>\n",
       "      <td>E</td>\n",
       "    </tr>\n",
       "    <tr>\n",
       "      <th>4</th>\n",
       "      <td>92</td>\n",
       "      <td>Call of Duty: Advanced Warfare</td>\n",
       "      <td>PS4</td>\n",
       "      <td>2014</td>\n",
       "      <td>Shooter</td>\n",
       "      <td>Activision</td>\n",
       "      <td>7660000</td>\n",
       "      <td>83</td>\n",
       "      <td>Sledgehammer Games</td>\n",
       "      <td>M</td>\n",
       "    </tr>\n",
       "  </tbody>\n",
       "</table>\n",
       "</div>"
      ],
      "text/plain": [
       "   Unnamed: 0                            Name Platform  Year_of_Release  \\\n",
       "0          42              Grand Theft Auto V      PS4             2014   \n",
       "1          62         New Super Mario Bros. 2      3DS             2012   \n",
       "2          73       Animal Crossing: New Leaf      3DS             2012   \n",
       "3          77                         FIFA 16      PS4             2015   \n",
       "4          92  Call of Duty: Advanced Warfare      PS4             2014   \n",
       "\n",
       "        Genre             Publisher  Global_Sales  Critic_Score  \\\n",
       "0      Action  Take-Two Interactive      12610000            97   \n",
       "1    Platform              Nintendo       9900000            78   \n",
       "2  Simulation              Nintendo       9160000            88   \n",
       "3      Sports       Electronic Arts       8570000            82   \n",
       "4     Shooter            Activision       7660000            83   \n",
       "\n",
       "            Developer Rating  \n",
       "0      Rockstar North      M  \n",
       "1            Nintendo      E  \n",
       "2            Nintendo      E  \n",
       "3           EA Sports      E  \n",
       "4  Sledgehammer Games      M  "
      ]
     },
     "execution_count": 3,
     "metadata": {},
     "output_type": "execute_result"
    }
   ],
   "source": [
    "# Load the game_clean_df.csv dataset.\n",
    "game_df = pd.read_csv(\"../Resources/game_clean_df.csv\")\n",
    "game_df.head()"
   ]
  },
  {
   "cell_type": "code",
   "execution_count": 4,
   "metadata": {},
   "outputs": [
    {
     "name": "stdout",
     "output_type": "stream",
     "text": [
      "(867, 9)\n"
     ]
    },
    {
     "data": {
      "text/html": [
       "<div>\n",
       "<style scoped>\n",
       "    .dataframe tbody tr th:only-of-type {\n",
       "        vertical-align: middle;\n",
       "    }\n",
       "\n",
       "    .dataframe tbody tr th {\n",
       "        vertical-align: top;\n",
       "    }\n",
       "\n",
       "    .dataframe thead th {\n",
       "        text-align: right;\n",
       "    }\n",
       "</style>\n",
       "<table border=\"1\" class=\"dataframe\">\n",
       "  <thead>\n",
       "    <tr style=\"text-align: right;\">\n",
       "      <th></th>\n",
       "      <th>Name</th>\n",
       "      <th>Platform</th>\n",
       "      <th>Year_of_Release</th>\n",
       "      <th>Genre</th>\n",
       "      <th>Publisher</th>\n",
       "      <th>Global_Sales</th>\n",
       "      <th>Critic_Score</th>\n",
       "      <th>Developer</th>\n",
       "      <th>Rating</th>\n",
       "    </tr>\n",
       "  </thead>\n",
       "  <tbody>\n",
       "    <tr>\n",
       "      <th>0</th>\n",
       "      <td>Grand Theft Auto V</td>\n",
       "      <td>PS4</td>\n",
       "      <td>2014</td>\n",
       "      <td>Action</td>\n",
       "      <td>Take-Two Interactive</td>\n",
       "      <td>12610000</td>\n",
       "      <td>97</td>\n",
       "      <td>Rockstar North</td>\n",
       "      <td>M</td>\n",
       "    </tr>\n",
       "    <tr>\n",
       "      <th>1</th>\n",
       "      <td>New Super Mario Bros. 2</td>\n",
       "      <td>3DS</td>\n",
       "      <td>2012</td>\n",
       "      <td>Platform</td>\n",
       "      <td>Nintendo</td>\n",
       "      <td>9900000</td>\n",
       "      <td>78</td>\n",
       "      <td>Nintendo</td>\n",
       "      <td>E</td>\n",
       "    </tr>\n",
       "    <tr>\n",
       "      <th>2</th>\n",
       "      <td>Animal Crossing: New Leaf</td>\n",
       "      <td>3DS</td>\n",
       "      <td>2012</td>\n",
       "      <td>Simulation</td>\n",
       "      <td>Nintendo</td>\n",
       "      <td>9160000</td>\n",
       "      <td>88</td>\n",
       "      <td>Nintendo</td>\n",
       "      <td>E</td>\n",
       "    </tr>\n",
       "    <tr>\n",
       "      <th>3</th>\n",
       "      <td>FIFA 16</td>\n",
       "      <td>PS4</td>\n",
       "      <td>2015</td>\n",
       "      <td>Sports</td>\n",
       "      <td>Electronic Arts</td>\n",
       "      <td>8570000</td>\n",
       "      <td>82</td>\n",
       "      <td>EA Sports</td>\n",
       "      <td>E</td>\n",
       "    </tr>\n",
       "    <tr>\n",
       "      <th>4</th>\n",
       "      <td>Call of Duty: Advanced Warfare</td>\n",
       "      <td>PS4</td>\n",
       "      <td>2014</td>\n",
       "      <td>Shooter</td>\n",
       "      <td>Activision</td>\n",
       "      <td>7660000</td>\n",
       "      <td>83</td>\n",
       "      <td>Sledgehammer Games</td>\n",
       "      <td>M</td>\n",
       "    </tr>\n",
       "    <tr>\n",
       "      <th>5</th>\n",
       "      <td>FIFA 17</td>\n",
       "      <td>PS4</td>\n",
       "      <td>2016</td>\n",
       "      <td>Sports</td>\n",
       "      <td>Electronic Arts</td>\n",
       "      <td>7590000</td>\n",
       "      <td>85</td>\n",
       "      <td>EA Sports, EA Vancouver</td>\n",
       "      <td>E</td>\n",
       "    </tr>\n",
       "    <tr>\n",
       "      <th>6</th>\n",
       "      <td>Fallout 4</td>\n",
       "      <td>PS4</td>\n",
       "      <td>2015</td>\n",
       "      <td>Role-Playing</td>\n",
       "      <td>Bethesda Softworks</td>\n",
       "      <td>7160000</td>\n",
       "      <td>87</td>\n",
       "      <td>Bethesda Game Studios</td>\n",
       "      <td>M</td>\n",
       "    </tr>\n",
       "    <tr>\n",
       "      <th>7</th>\n",
       "      <td>Mario Kart 8</td>\n",
       "      <td>WiiU</td>\n",
       "      <td>2014</td>\n",
       "      <td>Racing</td>\n",
       "      <td>Nintendo</td>\n",
       "      <td>7090000</td>\n",
       "      <td>88</td>\n",
       "      <td>Nintendo</td>\n",
       "      <td>E</td>\n",
       "    </tr>\n",
       "    <tr>\n",
       "      <th>8</th>\n",
       "      <td>FIFA 15</td>\n",
       "      <td>PS4</td>\n",
       "      <td>2014</td>\n",
       "      <td>Sports</td>\n",
       "      <td>Electronic Arts</td>\n",
       "      <td>6080000</td>\n",
       "      <td>82</td>\n",
       "      <td>EA Sports</td>\n",
       "      <td>E</td>\n",
       "    </tr>\n",
       "    <tr>\n",
       "      <th>9</th>\n",
       "      <td>Destiny</td>\n",
       "      <td>PS4</td>\n",
       "      <td>2014</td>\n",
       "      <td>Shooter</td>\n",
       "      <td>Activision</td>\n",
       "      <td>5640000</td>\n",
       "      <td>76</td>\n",
       "      <td>Bungie Software, Bungie</td>\n",
       "      <td>T</td>\n",
       "    </tr>\n",
       "  </tbody>\n",
       "</table>\n",
       "</div>"
      ],
      "text/plain": [
       "                             Name Platform  Year_of_Release         Genre  \\\n",
       "0              Grand Theft Auto V      PS4             2014        Action   \n",
       "1         New Super Mario Bros. 2      3DS             2012      Platform   \n",
       "2       Animal Crossing: New Leaf      3DS             2012    Simulation   \n",
       "3                         FIFA 16      PS4             2015        Sports   \n",
       "4  Call of Duty: Advanced Warfare      PS4             2014       Shooter   \n",
       "5                         FIFA 17      PS4             2016        Sports   \n",
       "6                       Fallout 4      PS4             2015  Role-Playing   \n",
       "7                    Mario Kart 8     WiiU             2014        Racing   \n",
       "8                         FIFA 15      PS4             2014        Sports   \n",
       "9                         Destiny      PS4             2014       Shooter   \n",
       "\n",
       "              Publisher  Global_Sales  Critic_Score                Developer  \\\n",
       "0  Take-Two Interactive      12610000            97           Rockstar North   \n",
       "1              Nintendo       9900000            78                 Nintendo   \n",
       "2              Nintendo       9160000            88                 Nintendo   \n",
       "3       Electronic Arts       8570000            82                EA Sports   \n",
       "4            Activision       7660000            83       Sledgehammer Games   \n",
       "5       Electronic Arts       7590000            85  EA Sports, EA Vancouver   \n",
       "6    Bethesda Softworks       7160000            87    Bethesda Game Studios   \n",
       "7              Nintendo       7090000            88                 Nintendo   \n",
       "8       Electronic Arts       6080000            82                EA Sports   \n",
       "9            Activision       5640000            76  Bungie Software, Bungie   \n",
       "\n",
       "  Rating  \n",
       "0      M  \n",
       "1      E  \n",
       "2      E  \n",
       "3      E  \n",
       "4      M  \n",
       "5      E  \n",
       "6      M  \n",
       "7      E  \n",
       "8      E  \n",
       "9      T  "
      ]
     },
     "execution_count": 4,
     "metadata": {},
     "output_type": "execute_result"
    }
   ],
   "source": [
    "# Drop the Unnamed: 0 column.\n",
    "game_df = game_df.drop(columns=[\"Unnamed: 0\"])\n",
    "\n",
    "print(game_df.shape)\n",
    "game_df.head(10)"
   ]
  },
  {
   "attachments": {},
   "cell_type": "markdown",
   "metadata": {},
   "source": [
    "# Naive Random Oversampling"
   ]
  },
  {
   "attachments": {},
   "cell_type": "markdown",
   "metadata": {},
   "source": [
    "### Naive Random Oversampling by Platform"
   ]
  },
  {
   "cell_type": "code",
   "execution_count": 5,
   "metadata": {},
   "outputs": [],
   "source": [
    "target = [\"Platform\"]\n",
    "\n",
    "# Create our features\n",
    "X = pd.get_dummies(game_df.drop(columns='Platform').copy())\n",
    "\n",
    "# Create our target\n",
    "y = game_df[target].copy()"
   ]
  },
  {
   "cell_type": "code",
   "execution_count": 6,
   "metadata": {},
   "outputs": [
    {
     "data": {
      "text/html": [
       "<div>\n",
       "<style scoped>\n",
       "    .dataframe tbody tr th:only-of-type {\n",
       "        vertical-align: middle;\n",
       "    }\n",
       "\n",
       "    .dataframe tbody tr th {\n",
       "        vertical-align: top;\n",
       "    }\n",
       "\n",
       "    .dataframe thead th {\n",
       "        text-align: right;\n",
       "    }\n",
       "</style>\n",
       "<table border=\"1\" class=\"dataframe\">\n",
       "  <thead>\n",
       "    <tr style=\"text-align: right;\">\n",
       "      <th></th>\n",
       "      <th>Year_of_Release</th>\n",
       "      <th>Global_Sales</th>\n",
       "      <th>Critic_Score</th>\n",
       "      <th>Name_7 Days to Die</th>\n",
       "      <th>Name_7th Dragon III Code: VFD</th>\n",
       "      <th>Name_Adventure Time: The Secret of the Nameless Kingdom</th>\n",
       "      <th>Name_Aegis of Earth: Protonovus Assault</th>\n",
       "      <th>Name_Agatha Christie's The ABC Murders</th>\n",
       "      <th>Name_Alan Wake</th>\n",
       "      <th>Name_Alien: Isolation</th>\n",
       "      <th>...</th>\n",
       "      <th>Developer_Zipper Interactive</th>\n",
       "      <th>Developer_Zoe Mode</th>\n",
       "      <th>Developer_h.a.n.d. Inc.</th>\n",
       "      <th>Developer_id Software</th>\n",
       "      <th>Developer_n-Space</th>\n",
       "      <th>Developer_syn Sophia</th>\n",
       "      <th>Rating_E</th>\n",
       "      <th>Rating_E10+</th>\n",
       "      <th>Rating_M</th>\n",
       "      <th>Rating_T</th>\n",
       "    </tr>\n",
       "  </thead>\n",
       "  <tbody>\n",
       "    <tr>\n",
       "      <th>count</th>\n",
       "      <td>867.000000</td>\n",
       "      <td>8.670000e+02</td>\n",
       "      <td>867.000000</td>\n",
       "      <td>867.000000</td>\n",
       "      <td>867.000000</td>\n",
       "      <td>867.000000</td>\n",
       "      <td>867.000000</td>\n",
       "      <td>867.000000</td>\n",
       "      <td>867.000000</td>\n",
       "      <td>867.000000</td>\n",
       "      <td>...</td>\n",
       "      <td>867.000000</td>\n",
       "      <td>867.000000</td>\n",
       "      <td>867.000000</td>\n",
       "      <td>867.000000</td>\n",
       "      <td>867.000000</td>\n",
       "      <td>867.000000</td>\n",
       "      <td>867.000000</td>\n",
       "      <td>867.000000</td>\n",
       "      <td>867.000000</td>\n",
       "      <td>867.000000</td>\n",
       "    </tr>\n",
       "    <tr>\n",
       "      <th>mean</th>\n",
       "      <td>2014.296424</td>\n",
       "      <td>6.916724e+05</td>\n",
       "      <td>72.959631</td>\n",
       "      <td>0.002307</td>\n",
       "      <td>0.001153</td>\n",
       "      <td>0.001153</td>\n",
       "      <td>0.001153</td>\n",
       "      <td>0.001153</td>\n",
       "      <td>0.001153</td>\n",
       "      <td>0.003460</td>\n",
       "      <td>...</td>\n",
       "      <td>0.001153</td>\n",
       "      <td>0.002307</td>\n",
       "      <td>0.001153</td>\n",
       "      <td>0.001153</td>\n",
       "      <td>0.003460</td>\n",
       "      <td>0.001153</td>\n",
       "      <td>0.222607</td>\n",
       "      <td>0.186851</td>\n",
       "      <td>0.320646</td>\n",
       "      <td>0.269896</td>\n",
       "    </tr>\n",
       "    <tr>\n",
       "      <th>std</th>\n",
       "      <td>1.362149</td>\n",
       "      <td>1.237520e+06</td>\n",
       "      <td>12.209563</td>\n",
       "      <td>0.048001</td>\n",
       "      <td>0.033962</td>\n",
       "      <td>0.033962</td>\n",
       "      <td>0.033962</td>\n",
       "      <td>0.033962</td>\n",
       "      <td>0.033962</td>\n",
       "      <td>0.058756</td>\n",
       "      <td>...</td>\n",
       "      <td>0.033962</td>\n",
       "      <td>0.048001</td>\n",
       "      <td>0.033962</td>\n",
       "      <td>0.033962</td>\n",
       "      <td>0.058756</td>\n",
       "      <td>0.033962</td>\n",
       "      <td>0.416236</td>\n",
       "      <td>0.390017</td>\n",
       "      <td>0.466994</td>\n",
       "      <td>0.444162</td>\n",
       "    </tr>\n",
       "    <tr>\n",
       "      <th>min</th>\n",
       "      <td>2012.000000</td>\n",
       "      <td>1.000000e+04</td>\n",
       "      <td>19.000000</td>\n",
       "      <td>0.000000</td>\n",
       "      <td>0.000000</td>\n",
       "      <td>0.000000</td>\n",
       "      <td>0.000000</td>\n",
       "      <td>0.000000</td>\n",
       "      <td>0.000000</td>\n",
       "      <td>0.000000</td>\n",
       "      <td>...</td>\n",
       "      <td>0.000000</td>\n",
       "      <td>0.000000</td>\n",
       "      <td>0.000000</td>\n",
       "      <td>0.000000</td>\n",
       "      <td>0.000000</td>\n",
       "      <td>0.000000</td>\n",
       "      <td>0.000000</td>\n",
       "      <td>0.000000</td>\n",
       "      <td>0.000000</td>\n",
       "      <td>0.000000</td>\n",
       "    </tr>\n",
       "    <tr>\n",
       "      <th>25%</th>\n",
       "      <td>2013.000000</td>\n",
       "      <td>9.000000e+04</td>\n",
       "      <td>67.000000</td>\n",
       "      <td>0.000000</td>\n",
       "      <td>0.000000</td>\n",
       "      <td>0.000000</td>\n",
       "      <td>0.000000</td>\n",
       "      <td>0.000000</td>\n",
       "      <td>0.000000</td>\n",
       "      <td>0.000000</td>\n",
       "      <td>...</td>\n",
       "      <td>0.000000</td>\n",
       "      <td>0.000000</td>\n",
       "      <td>0.000000</td>\n",
       "      <td>0.000000</td>\n",
       "      <td>0.000000</td>\n",
       "      <td>0.000000</td>\n",
       "      <td>0.000000</td>\n",
       "      <td>0.000000</td>\n",
       "      <td>0.000000</td>\n",
       "      <td>0.000000</td>\n",
       "    </tr>\n",
       "    <tr>\n",
       "      <th>50%</th>\n",
       "      <td>2014.000000</td>\n",
       "      <td>2.400000e+05</td>\n",
       "      <td>75.000000</td>\n",
       "      <td>0.000000</td>\n",
       "      <td>0.000000</td>\n",
       "      <td>0.000000</td>\n",
       "      <td>0.000000</td>\n",
       "      <td>0.000000</td>\n",
       "      <td>0.000000</td>\n",
       "      <td>0.000000</td>\n",
       "      <td>...</td>\n",
       "      <td>0.000000</td>\n",
       "      <td>0.000000</td>\n",
       "      <td>0.000000</td>\n",
       "      <td>0.000000</td>\n",
       "      <td>0.000000</td>\n",
       "      <td>0.000000</td>\n",
       "      <td>0.000000</td>\n",
       "      <td>0.000000</td>\n",
       "      <td>0.000000</td>\n",
       "      <td>0.000000</td>\n",
       "    </tr>\n",
       "    <tr>\n",
       "      <th>75%</th>\n",
       "      <td>2015.000000</td>\n",
       "      <td>6.850000e+05</td>\n",
       "      <td>81.000000</td>\n",
       "      <td>0.000000</td>\n",
       "      <td>0.000000</td>\n",
       "      <td>0.000000</td>\n",
       "      <td>0.000000</td>\n",
       "      <td>0.000000</td>\n",
       "      <td>0.000000</td>\n",
       "      <td>0.000000</td>\n",
       "      <td>...</td>\n",
       "      <td>0.000000</td>\n",
       "      <td>0.000000</td>\n",
       "      <td>0.000000</td>\n",
       "      <td>0.000000</td>\n",
       "      <td>0.000000</td>\n",
       "      <td>0.000000</td>\n",
       "      <td>0.000000</td>\n",
       "      <td>0.000000</td>\n",
       "      <td>1.000000</td>\n",
       "      <td>1.000000</td>\n",
       "    </tr>\n",
       "    <tr>\n",
       "      <th>max</th>\n",
       "      <td>2016.000000</td>\n",
       "      <td>1.261000e+07</td>\n",
       "      <td>97.000000</td>\n",
       "      <td>1.000000</td>\n",
       "      <td>1.000000</td>\n",
       "      <td>1.000000</td>\n",
       "      <td>1.000000</td>\n",
       "      <td>1.000000</td>\n",
       "      <td>1.000000</td>\n",
       "      <td>1.000000</td>\n",
       "      <td>...</td>\n",
       "      <td>1.000000</td>\n",
       "      <td>1.000000</td>\n",
       "      <td>1.000000</td>\n",
       "      <td>1.000000</td>\n",
       "      <td>1.000000</td>\n",
       "      <td>1.000000</td>\n",
       "      <td>1.000000</td>\n",
       "      <td>1.000000</td>\n",
       "      <td>1.000000</td>\n",
       "      <td>1.000000</td>\n",
       "    </tr>\n",
       "  </tbody>\n",
       "</table>\n",
       "<p>8 rows × 1000 columns</p>\n",
       "</div>"
      ],
      "text/plain": [
       "       Year_of_Release  Global_Sales  Critic_Score  Name_7 Days to Die  \\\n",
       "count       867.000000  8.670000e+02    867.000000          867.000000   \n",
       "mean       2014.296424  6.916724e+05     72.959631            0.002307   \n",
       "std           1.362149  1.237520e+06     12.209563            0.048001   \n",
       "min        2012.000000  1.000000e+04     19.000000            0.000000   \n",
       "25%        2013.000000  9.000000e+04     67.000000            0.000000   \n",
       "50%        2014.000000  2.400000e+05     75.000000            0.000000   \n",
       "75%        2015.000000  6.850000e+05     81.000000            0.000000   \n",
       "max        2016.000000  1.261000e+07     97.000000            1.000000   \n",
       "\n",
       "       Name_7th Dragon III Code: VFD  \\\n",
       "count                     867.000000   \n",
       "mean                        0.001153   \n",
       "std                         0.033962   \n",
       "min                         0.000000   \n",
       "25%                         0.000000   \n",
       "50%                         0.000000   \n",
       "75%                         0.000000   \n",
       "max                         1.000000   \n",
       "\n",
       "       Name_Adventure Time: The Secret of the Nameless Kingdom  \\\n",
       "count                                         867.000000         \n",
       "mean                                            0.001153         \n",
       "std                                             0.033962         \n",
       "min                                             0.000000         \n",
       "25%                                             0.000000         \n",
       "50%                                             0.000000         \n",
       "75%                                             0.000000         \n",
       "max                                             1.000000         \n",
       "\n",
       "       Name_Aegis of Earth: Protonovus Assault  \\\n",
       "count                               867.000000   \n",
       "mean                                  0.001153   \n",
       "std                                   0.033962   \n",
       "min                                   0.000000   \n",
       "25%                                   0.000000   \n",
       "50%                                   0.000000   \n",
       "75%                                   0.000000   \n",
       "max                                   1.000000   \n",
       "\n",
       "       Name_Agatha Christie's The ABC Murders  Name_Alan Wake  \\\n",
       "count                              867.000000      867.000000   \n",
       "mean                                 0.001153        0.001153   \n",
       "std                                  0.033962        0.033962   \n",
       "min                                  0.000000        0.000000   \n",
       "25%                                  0.000000        0.000000   \n",
       "50%                                  0.000000        0.000000   \n",
       "75%                                  0.000000        0.000000   \n",
       "max                                  1.000000        1.000000   \n",
       "\n",
       "       Name_Alien: Isolation  ...  Developer_Zipper Interactive  \\\n",
       "count             867.000000  ...                    867.000000   \n",
       "mean                0.003460  ...                      0.001153   \n",
       "std                 0.058756  ...                      0.033962   \n",
       "min                 0.000000  ...                      0.000000   \n",
       "25%                 0.000000  ...                      0.000000   \n",
       "50%                 0.000000  ...                      0.000000   \n",
       "75%                 0.000000  ...                      0.000000   \n",
       "max                 1.000000  ...                      1.000000   \n",
       "\n",
       "       Developer_Zoe Mode  Developer_h.a.n.d. Inc.  Developer_id Software  \\\n",
       "count          867.000000               867.000000             867.000000   \n",
       "mean             0.002307                 0.001153               0.001153   \n",
       "std              0.048001                 0.033962               0.033962   \n",
       "min              0.000000                 0.000000               0.000000   \n",
       "25%              0.000000                 0.000000               0.000000   \n",
       "50%              0.000000                 0.000000               0.000000   \n",
       "75%              0.000000                 0.000000               0.000000   \n",
       "max              1.000000                 1.000000               1.000000   \n",
       "\n",
       "       Developer_n-Space  Developer_syn Sophia    Rating_E  Rating_E10+  \\\n",
       "count         867.000000            867.000000  867.000000   867.000000   \n",
       "mean            0.003460              0.001153    0.222607     0.186851   \n",
       "std             0.058756              0.033962    0.416236     0.390017   \n",
       "min             0.000000              0.000000    0.000000     0.000000   \n",
       "25%             0.000000              0.000000    0.000000     0.000000   \n",
       "50%             0.000000              0.000000    0.000000     0.000000   \n",
       "75%             0.000000              0.000000    0.000000     0.000000   \n",
       "max             1.000000              1.000000    1.000000     1.000000   \n",
       "\n",
       "         Rating_M    Rating_T  \n",
       "count  867.000000  867.000000  \n",
       "mean     0.320646    0.269896  \n",
       "std      0.466994    0.444162  \n",
       "min      0.000000    0.000000  \n",
       "25%      0.000000    0.000000  \n",
       "50%      0.000000    0.000000  \n",
       "75%      1.000000    1.000000  \n",
       "max      1.000000    1.000000  \n",
       "\n",
       "[8 rows x 1000 columns]"
      ]
     },
     "execution_count": 6,
     "metadata": {},
     "output_type": "execute_result"
    }
   ],
   "source": [
    "X.describe()"
   ]
  },
  {
   "cell_type": "code",
   "execution_count": 7,
   "metadata": {},
   "outputs": [
    {
     "data": {
      "text/plain": [
       "PS4     239\n",
       "PC      174\n",
       "XOne    159\n",
       "PSV     106\n",
       "3DS     100\n",
       "WiiU     89\n",
       "Name: Platform, dtype: int64"
      ]
     },
     "execution_count": 7,
     "metadata": {},
     "output_type": "execute_result"
    }
   ],
   "source": [
    "# Check the balance of our target values\n",
    "y['Platform'].value_counts()"
   ]
  },
  {
   "cell_type": "code",
   "execution_count": 8,
   "metadata": {},
   "outputs": [],
   "source": [
    "from sklearn.model_selection import train_test_split\n",
    "\n",
    "X_train, X_test, y_train, y_test = train_test_split(X, y, random_state=1)"
   ]
  },
  {
   "cell_type": "code",
   "execution_count": 9,
   "metadata": {},
   "outputs": [
    {
     "data": {
      "text/plain": [
       "Counter({'Platform': 1})"
      ]
     },
     "execution_count": 9,
     "metadata": {},
     "output_type": "execute_result"
    }
   ],
   "source": [
    "# Resample the training data with the RandomOversampler\n",
    "from imblearn.over_sampling import RandomOverSampler\n",
    "\n",
    "ros = RandomOverSampler(random_state=1)\n",
    "X_resampled, y_resampled = ros.fit_resample(X_train, y_train)\n",
    "\n",
    "Counter(y_resampled)"
   ]
  },
  {
   "cell_type": "code",
   "execution_count": 10,
   "metadata": {},
   "outputs": [
    {
     "data": {
      "text/plain": [
       "LogisticRegression(random_state=1)"
      ]
     },
     "execution_count": 10,
     "metadata": {},
     "output_type": "execute_result"
    }
   ],
   "source": [
    "# Train the Logistic Regression model using the resampled data\n",
    "from sklearn.linear_model import LogisticRegression\n",
    "\n",
    "model = LogisticRegression(solver='lbfgs', random_state=1)\n",
    "\n",
    "model.fit(X_resampled, y_resampled)"
   ]
  },
  {
   "cell_type": "code",
   "execution_count": 11,
   "metadata": {},
   "outputs": [
    {
     "data": {
      "text/plain": [
       "0.22420774499441912"
      ]
     },
     "execution_count": 11,
     "metadata": {},
     "output_type": "execute_result"
    }
   ],
   "source": [
    "# Calculated the balanced accuracy score\n",
    "from sklearn.metrics import balanced_accuracy_score\n",
    "\n",
    "y_pred = model.predict(X_test)\n",
    "\n",
    "balanced_accuracy_score(y_test, y_pred)"
   ]
  },
  {
   "cell_type": "code",
   "execution_count": 12,
   "metadata": {},
   "outputs": [
    {
     "data": {
      "text/plain": [
       "array([[ 0,  5,  5,  7,  1,  1],\n",
       "       [ 0,  3,  4, 35,  4,  1],\n",
       "       [ 0, 12, 13, 29,  7,  2],\n",
       "       [ 0,  4,  0, 19,  3,  0],\n",
       "       [ 0,  3,  5,  8,  7,  1],\n",
       "       [ 1,  6, 13, 10,  6,  2]], dtype=int64)"
      ]
     },
     "execution_count": 12,
     "metadata": {},
     "output_type": "execute_result"
    }
   ],
   "source": [
    "# Display the confusion matrix\n",
    "from sklearn.metrics import confusion_matrix\n",
    "\n",
    "confusion_matrix(y_test, y_pred)"
   ]
  },
  {
   "cell_type": "code",
   "execution_count": 13,
   "metadata": {},
   "outputs": [
    {
     "data": {
      "text/html": [
       "<div>\n",
       "<style scoped>\n",
       "    .dataframe tbody tr th:only-of-type {\n",
       "        vertical-align: middle;\n",
       "    }\n",
       "\n",
       "    .dataframe tbody tr th {\n",
       "        vertical-align: top;\n",
       "    }\n",
       "\n",
       "    .dataframe thead th {\n",
       "        text-align: right;\n",
       "    }\n",
       "</style>\n",
       "<table border=\"1\" class=\"dataframe\">\n",
       "  <thead>\n",
       "    <tr style=\"text-align: right;\">\n",
       "      <th></th>\n",
       "      <th>Predicted PS4</th>\n",
       "      <th>Predicted PC</th>\n",
       "      <th>Predicted XOne</th>\n",
       "      <th>Predicted WiiU</th>\n",
       "      <th>Predicted 3DS</th>\n",
       "      <th>Predicted PSV</th>\n",
       "    </tr>\n",
       "  </thead>\n",
       "  <tbody>\n",
       "    <tr>\n",
       "      <th>Actual PS4</th>\n",
       "      <td>0</td>\n",
       "      <td>5</td>\n",
       "      <td>5</td>\n",
       "      <td>7</td>\n",
       "      <td>1</td>\n",
       "      <td>1</td>\n",
       "    </tr>\n",
       "    <tr>\n",
       "      <th>Actual PC</th>\n",
       "      <td>0</td>\n",
       "      <td>3</td>\n",
       "      <td>4</td>\n",
       "      <td>35</td>\n",
       "      <td>4</td>\n",
       "      <td>1</td>\n",
       "    </tr>\n",
       "    <tr>\n",
       "      <th>Actual XOne</th>\n",
       "      <td>0</td>\n",
       "      <td>12</td>\n",
       "      <td>13</td>\n",
       "      <td>29</td>\n",
       "      <td>7</td>\n",
       "      <td>2</td>\n",
       "    </tr>\n",
       "    <tr>\n",
       "      <th>Actual WiiU</th>\n",
       "      <td>0</td>\n",
       "      <td>4</td>\n",
       "      <td>0</td>\n",
       "      <td>19</td>\n",
       "      <td>3</td>\n",
       "      <td>0</td>\n",
       "    </tr>\n",
       "    <tr>\n",
       "      <th>Actual 3DS</th>\n",
       "      <td>0</td>\n",
       "      <td>3</td>\n",
       "      <td>5</td>\n",
       "      <td>8</td>\n",
       "      <td>7</td>\n",
       "      <td>1</td>\n",
       "    </tr>\n",
       "    <tr>\n",
       "      <th>Actual PSV</th>\n",
       "      <td>1</td>\n",
       "      <td>6</td>\n",
       "      <td>13</td>\n",
       "      <td>10</td>\n",
       "      <td>6</td>\n",
       "      <td>2</td>\n",
       "    </tr>\n",
       "  </tbody>\n",
       "</table>\n",
       "</div>"
      ],
      "text/plain": [
       "             Predicted PS4  Predicted PC  Predicted XOne  Predicted WiiU  \\\n",
       "Actual PS4               0             5               5               7   \n",
       "Actual PC                0             3               4              35   \n",
       "Actual XOne              0            12              13              29   \n",
       "Actual WiiU              0             4               0              19   \n",
       "Actual 3DS               0             3               5               8   \n",
       "Actual PSV               1             6              13              10   \n",
       "\n",
       "             Predicted 3DS  Predicted PSV  \n",
       "Actual PS4               1              1  \n",
       "Actual PC                4              1  \n",
       "Actual XOne              7              2  \n",
       "Actual WiiU              3              0  \n",
       "Actual 3DS               7              1  \n",
       "Actual PSV               6              2  "
      ]
     },
     "execution_count": 13,
     "metadata": {},
     "output_type": "execute_result"
    }
   ],
   "source": [
    "# Create a DataFrame from the confusion matrix.\n",
    "NRO_cm = confusion_matrix(y_test, y_pred)\n",
    "NRO_cm_df = pd.DataFrame(\n",
    "    NRO_cm, \n",
    "    index=[\"Actual PS4\", \"Actual PC\", \"Actual XOne\", \"Actual WiiU\", \"Actual 3DS\", \"Actual PSV\"], \n",
    "    columns=[\"Predicted PS4\", \"Predicted PC\", \"Predicted XOne\", \"Predicted WiiU\", \"Predicted 3DS\", \"Predicted PSV\"])\n",
    "\n",
    "NRO_cm_df"
   ]
  },
  {
   "cell_type": "code",
   "execution_count": 14,
   "metadata": {},
   "outputs": [
    {
     "name": "stdout",
     "output_type": "stream",
     "text": [
      "C:\\Program Files\\Google\\Chrome\\Application\\chrome.exe\n",
      "C:\\Program Files\\Google\\Chrome\\Application\\chrome.exe\n"
     ]
    }
   ],
   "source": [
    "# Save the NRO dataframe\n",
    "dfi.export(NRO_cm_df, \"analysis/NRO By Platform.png\")"
   ]
  },
  {
   "cell_type": "code",
   "execution_count": 15,
   "metadata": {},
   "outputs": [
    {
     "name": "stdout",
     "output_type": "stream",
     "text": [
      "Naive Random Oversampling By Platform\n",
      "\n",
      "\n",
      "Accuracy: 22.42% \n",
      "\n",
      "\n",
      "                   pre       rec       spe        f1       geo       iba       sup\n",
      "\n",
      "        3DS       0.00      0.00      0.99      0.00      0.00      0.00        19\n",
      "         PC       0.09      0.06      0.82      0.07      0.23      0.05        47\n",
      "        PS4       0.33      0.21      0.82      0.25      0.41      0.16        63\n",
      "        PSV       0.18      0.73      0.53      0.28      0.62      0.40        26\n",
      "       WiiU       0.25      0.29      0.89      0.27      0.51      0.24        24\n",
      "       XOne       0.29      0.05      0.97      0.09      0.23      0.05        38\n",
      "\n",
      "avg / total       0.21      0.20      0.84      0.17      0.34      0.14       217\n",
      "\n"
     ]
    }
   ],
   "source": [
    "# Print the imbalanced classification report\n",
    "from imblearn.metrics import classification_report_imbalanced\n",
    "\n",
    "print(\"Naive Random Oversampling By Platform\")\n",
    "print(\"\\n\")\n",
    "print(f\"Accuracy: { balanced_accuracy_score(y_test, y_pred) * 100:.2f}% \\n\\n\")\n",
    "print(classification_report_imbalanced(y_test, y_pred))"
   ]
  },
  {
   "attachments": {},
   "cell_type": "markdown",
   "metadata": {},
   "source": [
    "### Naive Random Oversampling by Rating"
   ]
  },
  {
   "cell_type": "code",
   "execution_count": 16,
   "metadata": {},
   "outputs": [],
   "source": [
    "target = [\"Rating\"]\n",
    "\n",
    "# Create our features\n",
    "X = pd.get_dummies(game_df.drop(columns='Rating').copy())\n",
    "\n",
    "# Create our target\n",
    "y = game_df[target].copy()"
   ]
  },
  {
   "cell_type": "code",
   "execution_count": 17,
   "metadata": {},
   "outputs": [
    {
     "data": {
      "text/html": [
       "<div>\n",
       "<style scoped>\n",
       "    .dataframe tbody tr th:only-of-type {\n",
       "        vertical-align: middle;\n",
       "    }\n",
       "\n",
       "    .dataframe tbody tr th {\n",
       "        vertical-align: top;\n",
       "    }\n",
       "\n",
       "    .dataframe thead th {\n",
       "        text-align: right;\n",
       "    }\n",
       "</style>\n",
       "<table border=\"1\" class=\"dataframe\">\n",
       "  <thead>\n",
       "    <tr style=\"text-align: right;\">\n",
       "      <th></th>\n",
       "      <th>Year_of_Release</th>\n",
       "      <th>Global_Sales</th>\n",
       "      <th>Critic_Score</th>\n",
       "      <th>Name_7 Days to Die</th>\n",
       "      <th>Name_7th Dragon III Code: VFD</th>\n",
       "      <th>Name_Adventure Time: The Secret of the Nameless Kingdom</th>\n",
       "      <th>Name_Aegis of Earth: Protonovus Assault</th>\n",
       "      <th>Name_Agatha Christie's The ABC Murders</th>\n",
       "      <th>Name_Alan Wake</th>\n",
       "      <th>Name_Alien: Isolation</th>\n",
       "      <th>...</th>\n",
       "      <th>Developer_Yager</th>\n",
       "      <th>Developer_Yuke's</th>\n",
       "      <th>Developer_ZeniMax Media</th>\n",
       "      <th>Developer_Zerodiv</th>\n",
       "      <th>Developer_Zipper Interactive</th>\n",
       "      <th>Developer_Zoe Mode</th>\n",
       "      <th>Developer_h.a.n.d. Inc.</th>\n",
       "      <th>Developer_id Software</th>\n",
       "      <th>Developer_n-Space</th>\n",
       "      <th>Developer_syn Sophia</th>\n",
       "    </tr>\n",
       "  </thead>\n",
       "  <tbody>\n",
       "    <tr>\n",
       "      <th>count</th>\n",
       "      <td>867.000000</td>\n",
       "      <td>8.670000e+02</td>\n",
       "      <td>867.000000</td>\n",
       "      <td>867.000000</td>\n",
       "      <td>867.000000</td>\n",
       "      <td>867.000000</td>\n",
       "      <td>867.000000</td>\n",
       "      <td>867.000000</td>\n",
       "      <td>867.000000</td>\n",
       "      <td>867.000000</td>\n",
       "      <td>...</td>\n",
       "      <td>867.000000</td>\n",
       "      <td>867.000000</td>\n",
       "      <td>867.000000</td>\n",
       "      <td>867.000000</td>\n",
       "      <td>867.000000</td>\n",
       "      <td>867.000000</td>\n",
       "      <td>867.000000</td>\n",
       "      <td>867.000000</td>\n",
       "      <td>867.000000</td>\n",
       "      <td>867.000000</td>\n",
       "    </tr>\n",
       "    <tr>\n",
       "      <th>mean</th>\n",
       "      <td>2014.296424</td>\n",
       "      <td>6.916724e+05</td>\n",
       "      <td>72.959631</td>\n",
       "      <td>0.002307</td>\n",
       "      <td>0.001153</td>\n",
       "      <td>0.001153</td>\n",
       "      <td>0.001153</td>\n",
       "      <td>0.001153</td>\n",
       "      <td>0.001153</td>\n",
       "      <td>0.003460</td>\n",
       "      <td>...</td>\n",
       "      <td>0.001153</td>\n",
       "      <td>0.006920</td>\n",
       "      <td>0.002307</td>\n",
       "      <td>0.002307</td>\n",
       "      <td>0.001153</td>\n",
       "      <td>0.002307</td>\n",
       "      <td>0.001153</td>\n",
       "      <td>0.001153</td>\n",
       "      <td>0.003460</td>\n",
       "      <td>0.001153</td>\n",
       "    </tr>\n",
       "    <tr>\n",
       "      <th>std</th>\n",
       "      <td>1.362149</td>\n",
       "      <td>1.237520e+06</td>\n",
       "      <td>12.209563</td>\n",
       "      <td>0.048001</td>\n",
       "      <td>0.033962</td>\n",
       "      <td>0.033962</td>\n",
       "      <td>0.033962</td>\n",
       "      <td>0.033962</td>\n",
       "      <td>0.033962</td>\n",
       "      <td>0.058756</td>\n",
       "      <td>...</td>\n",
       "      <td>0.033962</td>\n",
       "      <td>0.082949</td>\n",
       "      <td>0.048001</td>\n",
       "      <td>0.048001</td>\n",
       "      <td>0.033962</td>\n",
       "      <td>0.048001</td>\n",
       "      <td>0.033962</td>\n",
       "      <td>0.033962</td>\n",
       "      <td>0.058756</td>\n",
       "      <td>0.033962</td>\n",
       "    </tr>\n",
       "    <tr>\n",
       "      <th>min</th>\n",
       "      <td>2012.000000</td>\n",
       "      <td>1.000000e+04</td>\n",
       "      <td>19.000000</td>\n",
       "      <td>0.000000</td>\n",
       "      <td>0.000000</td>\n",
       "      <td>0.000000</td>\n",
       "      <td>0.000000</td>\n",
       "      <td>0.000000</td>\n",
       "      <td>0.000000</td>\n",
       "      <td>0.000000</td>\n",
       "      <td>...</td>\n",
       "      <td>0.000000</td>\n",
       "      <td>0.000000</td>\n",
       "      <td>0.000000</td>\n",
       "      <td>0.000000</td>\n",
       "      <td>0.000000</td>\n",
       "      <td>0.000000</td>\n",
       "      <td>0.000000</td>\n",
       "      <td>0.000000</td>\n",
       "      <td>0.000000</td>\n",
       "      <td>0.000000</td>\n",
       "    </tr>\n",
       "    <tr>\n",
       "      <th>25%</th>\n",
       "      <td>2013.000000</td>\n",
       "      <td>9.000000e+04</td>\n",
       "      <td>67.000000</td>\n",
       "      <td>0.000000</td>\n",
       "      <td>0.000000</td>\n",
       "      <td>0.000000</td>\n",
       "      <td>0.000000</td>\n",
       "      <td>0.000000</td>\n",
       "      <td>0.000000</td>\n",
       "      <td>0.000000</td>\n",
       "      <td>...</td>\n",
       "      <td>0.000000</td>\n",
       "      <td>0.000000</td>\n",
       "      <td>0.000000</td>\n",
       "      <td>0.000000</td>\n",
       "      <td>0.000000</td>\n",
       "      <td>0.000000</td>\n",
       "      <td>0.000000</td>\n",
       "      <td>0.000000</td>\n",
       "      <td>0.000000</td>\n",
       "      <td>0.000000</td>\n",
       "    </tr>\n",
       "    <tr>\n",
       "      <th>50%</th>\n",
       "      <td>2014.000000</td>\n",
       "      <td>2.400000e+05</td>\n",
       "      <td>75.000000</td>\n",
       "      <td>0.000000</td>\n",
       "      <td>0.000000</td>\n",
       "      <td>0.000000</td>\n",
       "      <td>0.000000</td>\n",
       "      <td>0.000000</td>\n",
       "      <td>0.000000</td>\n",
       "      <td>0.000000</td>\n",
       "      <td>...</td>\n",
       "      <td>0.000000</td>\n",
       "      <td>0.000000</td>\n",
       "      <td>0.000000</td>\n",
       "      <td>0.000000</td>\n",
       "      <td>0.000000</td>\n",
       "      <td>0.000000</td>\n",
       "      <td>0.000000</td>\n",
       "      <td>0.000000</td>\n",
       "      <td>0.000000</td>\n",
       "      <td>0.000000</td>\n",
       "    </tr>\n",
       "    <tr>\n",
       "      <th>75%</th>\n",
       "      <td>2015.000000</td>\n",
       "      <td>6.850000e+05</td>\n",
       "      <td>81.000000</td>\n",
       "      <td>0.000000</td>\n",
       "      <td>0.000000</td>\n",
       "      <td>0.000000</td>\n",
       "      <td>0.000000</td>\n",
       "      <td>0.000000</td>\n",
       "      <td>0.000000</td>\n",
       "      <td>0.000000</td>\n",
       "      <td>...</td>\n",
       "      <td>0.000000</td>\n",
       "      <td>0.000000</td>\n",
       "      <td>0.000000</td>\n",
       "      <td>0.000000</td>\n",
       "      <td>0.000000</td>\n",
       "      <td>0.000000</td>\n",
       "      <td>0.000000</td>\n",
       "      <td>0.000000</td>\n",
       "      <td>0.000000</td>\n",
       "      <td>0.000000</td>\n",
       "    </tr>\n",
       "    <tr>\n",
       "      <th>max</th>\n",
       "      <td>2016.000000</td>\n",
       "      <td>1.261000e+07</td>\n",
       "      <td>97.000000</td>\n",
       "      <td>1.000000</td>\n",
       "      <td>1.000000</td>\n",
       "      <td>1.000000</td>\n",
       "      <td>1.000000</td>\n",
       "      <td>1.000000</td>\n",
       "      <td>1.000000</td>\n",
       "      <td>1.000000</td>\n",
       "      <td>...</td>\n",
       "      <td>1.000000</td>\n",
       "      <td>1.000000</td>\n",
       "      <td>1.000000</td>\n",
       "      <td>1.000000</td>\n",
       "      <td>1.000000</td>\n",
       "      <td>1.000000</td>\n",
       "      <td>1.000000</td>\n",
       "      <td>1.000000</td>\n",
       "      <td>1.000000</td>\n",
       "      <td>1.000000</td>\n",
       "    </tr>\n",
       "  </tbody>\n",
       "</table>\n",
       "<p>8 rows × 1002 columns</p>\n",
       "</div>"
      ],
      "text/plain": [
       "       Year_of_Release  Global_Sales  Critic_Score  Name_7 Days to Die  \\\n",
       "count       867.000000  8.670000e+02    867.000000          867.000000   \n",
       "mean       2014.296424  6.916724e+05     72.959631            0.002307   \n",
       "std           1.362149  1.237520e+06     12.209563            0.048001   \n",
       "min        2012.000000  1.000000e+04     19.000000            0.000000   \n",
       "25%        2013.000000  9.000000e+04     67.000000            0.000000   \n",
       "50%        2014.000000  2.400000e+05     75.000000            0.000000   \n",
       "75%        2015.000000  6.850000e+05     81.000000            0.000000   \n",
       "max        2016.000000  1.261000e+07     97.000000            1.000000   \n",
       "\n",
       "       Name_7th Dragon III Code: VFD  \\\n",
       "count                     867.000000   \n",
       "mean                        0.001153   \n",
       "std                         0.033962   \n",
       "min                         0.000000   \n",
       "25%                         0.000000   \n",
       "50%                         0.000000   \n",
       "75%                         0.000000   \n",
       "max                         1.000000   \n",
       "\n",
       "       Name_Adventure Time: The Secret of the Nameless Kingdom  \\\n",
       "count                                         867.000000         \n",
       "mean                                            0.001153         \n",
       "std                                             0.033962         \n",
       "min                                             0.000000         \n",
       "25%                                             0.000000         \n",
       "50%                                             0.000000         \n",
       "75%                                             0.000000         \n",
       "max                                             1.000000         \n",
       "\n",
       "       Name_Aegis of Earth: Protonovus Assault  \\\n",
       "count                               867.000000   \n",
       "mean                                  0.001153   \n",
       "std                                   0.033962   \n",
       "min                                   0.000000   \n",
       "25%                                   0.000000   \n",
       "50%                                   0.000000   \n",
       "75%                                   0.000000   \n",
       "max                                   1.000000   \n",
       "\n",
       "       Name_Agatha Christie's The ABC Murders  Name_Alan Wake  \\\n",
       "count                              867.000000      867.000000   \n",
       "mean                                 0.001153        0.001153   \n",
       "std                                  0.033962        0.033962   \n",
       "min                                  0.000000        0.000000   \n",
       "25%                                  0.000000        0.000000   \n",
       "50%                                  0.000000        0.000000   \n",
       "75%                                  0.000000        0.000000   \n",
       "max                                  1.000000        1.000000   \n",
       "\n",
       "       Name_Alien: Isolation  ...  Developer_Yager  Developer_Yuke's  \\\n",
       "count             867.000000  ...       867.000000        867.000000   \n",
       "mean                0.003460  ...         0.001153          0.006920   \n",
       "std                 0.058756  ...         0.033962          0.082949   \n",
       "min                 0.000000  ...         0.000000          0.000000   \n",
       "25%                 0.000000  ...         0.000000          0.000000   \n",
       "50%                 0.000000  ...         0.000000          0.000000   \n",
       "75%                 0.000000  ...         0.000000          0.000000   \n",
       "max                 1.000000  ...         1.000000          1.000000   \n",
       "\n",
       "       Developer_ZeniMax Media  Developer_Zerodiv  \\\n",
       "count               867.000000         867.000000   \n",
       "mean                  0.002307           0.002307   \n",
       "std                   0.048001           0.048001   \n",
       "min                   0.000000           0.000000   \n",
       "25%                   0.000000           0.000000   \n",
       "50%                   0.000000           0.000000   \n",
       "75%                   0.000000           0.000000   \n",
       "max                   1.000000           1.000000   \n",
       "\n",
       "       Developer_Zipper Interactive  Developer_Zoe Mode  \\\n",
       "count                    867.000000          867.000000   \n",
       "mean                       0.001153            0.002307   \n",
       "std                        0.033962            0.048001   \n",
       "min                        0.000000            0.000000   \n",
       "25%                        0.000000            0.000000   \n",
       "50%                        0.000000            0.000000   \n",
       "75%                        0.000000            0.000000   \n",
       "max                        1.000000            1.000000   \n",
       "\n",
       "       Developer_h.a.n.d. Inc.  Developer_id Software  Developer_n-Space  \\\n",
       "count               867.000000             867.000000         867.000000   \n",
       "mean                  0.001153               0.001153           0.003460   \n",
       "std                   0.033962               0.033962           0.058756   \n",
       "min                   0.000000               0.000000           0.000000   \n",
       "25%                   0.000000               0.000000           0.000000   \n",
       "50%                   0.000000               0.000000           0.000000   \n",
       "75%                   0.000000               0.000000           0.000000   \n",
       "max                   1.000000               1.000000           1.000000   \n",
       "\n",
       "       Developer_syn Sophia  \n",
       "count            867.000000  \n",
       "mean               0.001153  \n",
       "std                0.033962  \n",
       "min                0.000000  \n",
       "25%                0.000000  \n",
       "50%                0.000000  \n",
       "75%                0.000000  \n",
       "max                1.000000  \n",
       "\n",
       "[8 rows x 1002 columns]"
      ]
     },
     "execution_count": 17,
     "metadata": {},
     "output_type": "execute_result"
    }
   ],
   "source": [
    "X.describe()"
   ]
  },
  {
   "cell_type": "code",
   "execution_count": 18,
   "metadata": {},
   "outputs": [
    {
     "data": {
      "text/plain": [
       "M       278\n",
       "T       234\n",
       "E       193\n",
       "E10+    162\n",
       "Name: Rating, dtype: int64"
      ]
     },
     "execution_count": 18,
     "metadata": {},
     "output_type": "execute_result"
    }
   ],
   "source": [
    "# Check the balance of our target values\n",
    "y['Rating'].value_counts()"
   ]
  },
  {
   "cell_type": "code",
   "execution_count": 19,
   "metadata": {},
   "outputs": [],
   "source": [
    "X_train, X_test, y_train, y_test = train_test_split(X, y, random_state=1)"
   ]
  },
  {
   "cell_type": "code",
   "execution_count": 20,
   "metadata": {},
   "outputs": [
    {
     "data": {
      "text/plain": [
       "Counter({'Rating': 1})"
      ]
     },
     "execution_count": 20,
     "metadata": {},
     "output_type": "execute_result"
    }
   ],
   "source": [
    "# Resample the training data with the RandomOversampler\n",
    "ros = RandomOverSampler(random_state=1)\n",
    "X_resampled, y_resampled = ros.fit_resample(X_train, y_train)\n",
    "\n",
    "Counter(y_resampled)"
   ]
  },
  {
   "cell_type": "code",
   "execution_count": 21,
   "metadata": {},
   "outputs": [
    {
     "data": {
      "text/plain": [
       "LogisticRegression(random_state=1)"
      ]
     },
     "execution_count": 21,
     "metadata": {},
     "output_type": "execute_result"
    }
   ],
   "source": [
    "model = LogisticRegression(solver='lbfgs', random_state=1)\n",
    "\n",
    "model.fit(X_resampled, y_resampled)"
   ]
  },
  {
   "cell_type": "code",
   "execution_count": 22,
   "metadata": {},
   "outputs": [
    {
     "data": {
      "text/plain": [
       "0.32419432976661894"
      ]
     },
     "execution_count": 22,
     "metadata": {},
     "output_type": "execute_result"
    }
   ],
   "source": [
    "y_pred = model.predict(X_test)\n",
    "\n",
    "balanced_accuracy_score(y_test, y_pred)"
   ]
  },
  {
   "cell_type": "code",
   "execution_count": 23,
   "metadata": {},
   "outputs": [
    {
     "data": {
      "text/plain": [
       "array([[ 4,  1, 16, 34],\n",
       "       [ 4, 10,  4, 22],\n",
       "       [ 7,  3, 17, 56],\n",
       "       [ 1,  4,  4, 30]], dtype=int64)"
      ]
     },
     "execution_count": 23,
     "metadata": {},
     "output_type": "execute_result"
    }
   ],
   "source": [
    "confusion_matrix(y_test, y_pred)"
   ]
  },
  {
   "cell_type": "code",
   "execution_count": 24,
   "metadata": {},
   "outputs": [
    {
     "data": {
      "text/html": [
       "<div>\n",
       "<style scoped>\n",
       "    .dataframe tbody tr th:only-of-type {\n",
       "        vertical-align: middle;\n",
       "    }\n",
       "\n",
       "    .dataframe tbody tr th {\n",
       "        vertical-align: top;\n",
       "    }\n",
       "\n",
       "    .dataframe thead th {\n",
       "        text-align: right;\n",
       "    }\n",
       "</style>\n",
       "<table border=\"1\" class=\"dataframe\">\n",
       "  <thead>\n",
       "    <tr style=\"text-align: right;\">\n",
       "      <th></th>\n",
       "      <th>Predicted M</th>\n",
       "      <th>Predicted T</th>\n",
       "      <th>Predicted E</th>\n",
       "      <th>Predicted E10+</th>\n",
       "    </tr>\n",
       "  </thead>\n",
       "  <tbody>\n",
       "    <tr>\n",
       "      <th>Actual M</th>\n",
       "      <td>4</td>\n",
       "      <td>1</td>\n",
       "      <td>16</td>\n",
       "      <td>34</td>\n",
       "    </tr>\n",
       "    <tr>\n",
       "      <th>Actual T</th>\n",
       "      <td>4</td>\n",
       "      <td>10</td>\n",
       "      <td>4</td>\n",
       "      <td>22</td>\n",
       "    </tr>\n",
       "    <tr>\n",
       "      <th>Actual E</th>\n",
       "      <td>7</td>\n",
       "      <td>3</td>\n",
       "      <td>17</td>\n",
       "      <td>56</td>\n",
       "    </tr>\n",
       "    <tr>\n",
       "      <th>Actual E10+</th>\n",
       "      <td>1</td>\n",
       "      <td>4</td>\n",
       "      <td>4</td>\n",
       "      <td>30</td>\n",
       "    </tr>\n",
       "  </tbody>\n",
       "</table>\n",
       "</div>"
      ],
      "text/plain": [
       "             Predicted M  Predicted T  Predicted E  Predicted E10+\n",
       "Actual M               4            1           16              34\n",
       "Actual T               4           10            4              22\n",
       "Actual E               7            3           17              56\n",
       "Actual E10+            1            4            4              30"
      ]
     },
     "execution_count": 24,
     "metadata": {},
     "output_type": "execute_result"
    }
   ],
   "source": [
    "# Create a DataFrame from the confusion matrix.\n",
    "NRO_cm = confusion_matrix(y_test, y_pred)\n",
    "NRO_cm_df = pd.DataFrame(\n",
    "    NRO_cm, \n",
    "    index=[\"Actual M\", \"Actual T\", \"Actual E\", \"Actual E10+\"], \n",
    "    columns=[\"Predicted M\", \"Predicted T\", \"Predicted E\", \"Predicted E10+\"])\n",
    "\n",
    "NRO_cm_df"
   ]
  },
  {
   "cell_type": "code",
   "execution_count": 25,
   "metadata": {},
   "outputs": [
    {
     "name": "stdout",
     "output_type": "stream",
     "text": [
      "C:\\Program Files\\Google\\Chrome\\Application\\chrome.exe\n"
     ]
    }
   ],
   "source": [
    "dfi.export(NRO_cm_df, \"analysis/NRO By Rating.png\")"
   ]
  },
  {
   "cell_type": "code",
   "execution_count": 26,
   "metadata": {},
   "outputs": [
    {
     "name": "stdout",
     "output_type": "stream",
     "text": [
      "Naive Random Oversampling By Rating\n",
      "\n",
      "\n",
      "Accuracy: 32.42% \n",
      "\n",
      "\n",
      "                   pre       rec       spe        f1       geo       iba       sup\n",
      "\n",
      "          E       0.25      0.07      0.93      0.11      0.26      0.06        55\n",
      "       E10+       0.56      0.25      0.95      0.34      0.49      0.22        40\n",
      "          M       0.41      0.20      0.82      0.27      0.41      0.16        83\n",
      "          T       0.21      0.77      0.37      0.33      0.53      0.30        39\n",
      "\n",
      "avg / total       0.36      0.28      0.79      0.26      0.41      0.17       217\n",
      "\n"
     ]
    }
   ],
   "source": [
    "print(\"Naive Random Oversampling By Rating\")\n",
    "print(\"\\n\")\n",
    "print(f\"Accuracy: { balanced_accuracy_score(y_test, y_pred) * 100:.2f}% \\n\\n\")\n",
    "print(classification_report_imbalanced(y_test, y_pred))"
   ]
  },
  {
   "attachments": {},
   "cell_type": "markdown",
   "metadata": {},
   "source": [
    "### Naive Random Oversampling by Genre"
   ]
  },
  {
   "cell_type": "code",
   "execution_count": 27,
   "metadata": {},
   "outputs": [],
   "source": [
    "target = [\"Genre\"]\n",
    "\n",
    "# Create our features\n",
    "X = pd.get_dummies(game_df.drop(columns='Genre').copy())\n",
    "\n",
    "# Create our target\n",
    "y = game_df[target].copy()"
   ]
  },
  {
   "cell_type": "code",
   "execution_count": 28,
   "metadata": {},
   "outputs": [
    {
     "data": {
      "text/html": [
       "<div>\n",
       "<style scoped>\n",
       "    .dataframe tbody tr th:only-of-type {\n",
       "        vertical-align: middle;\n",
       "    }\n",
       "\n",
       "    .dataframe tbody tr th {\n",
       "        vertical-align: top;\n",
       "    }\n",
       "\n",
       "    .dataframe thead th {\n",
       "        text-align: right;\n",
       "    }\n",
       "</style>\n",
       "<table border=\"1\" class=\"dataframe\">\n",
       "  <thead>\n",
       "    <tr style=\"text-align: right;\">\n",
       "      <th></th>\n",
       "      <th>Year_of_Release</th>\n",
       "      <th>Global_Sales</th>\n",
       "      <th>Critic_Score</th>\n",
       "      <th>Name_7 Days to Die</th>\n",
       "      <th>Name_7th Dragon III Code: VFD</th>\n",
       "      <th>Name_Adventure Time: The Secret of the Nameless Kingdom</th>\n",
       "      <th>Name_Aegis of Earth: Protonovus Assault</th>\n",
       "      <th>Name_Agatha Christie's The ABC Murders</th>\n",
       "      <th>Name_Alan Wake</th>\n",
       "      <th>Name_Alien: Isolation</th>\n",
       "      <th>...</th>\n",
       "      <th>Developer_Zipper Interactive</th>\n",
       "      <th>Developer_Zoe Mode</th>\n",
       "      <th>Developer_h.a.n.d. Inc.</th>\n",
       "      <th>Developer_id Software</th>\n",
       "      <th>Developer_n-Space</th>\n",
       "      <th>Developer_syn Sophia</th>\n",
       "      <th>Rating_E</th>\n",
       "      <th>Rating_E10+</th>\n",
       "      <th>Rating_M</th>\n",
       "      <th>Rating_T</th>\n",
       "    </tr>\n",
       "  </thead>\n",
       "  <tbody>\n",
       "    <tr>\n",
       "      <th>count</th>\n",
       "      <td>867.000000</td>\n",
       "      <td>8.670000e+02</td>\n",
       "      <td>867.000000</td>\n",
       "      <td>867.000000</td>\n",
       "      <td>867.000000</td>\n",
       "      <td>867.000000</td>\n",
       "      <td>867.000000</td>\n",
       "      <td>867.000000</td>\n",
       "      <td>867.000000</td>\n",
       "      <td>867.000000</td>\n",
       "      <td>...</td>\n",
       "      <td>867.000000</td>\n",
       "      <td>867.000000</td>\n",
       "      <td>867.000000</td>\n",
       "      <td>867.000000</td>\n",
       "      <td>867.000000</td>\n",
       "      <td>867.000000</td>\n",
       "      <td>867.000000</td>\n",
       "      <td>867.000000</td>\n",
       "      <td>867.000000</td>\n",
       "      <td>867.000000</td>\n",
       "    </tr>\n",
       "    <tr>\n",
       "      <th>mean</th>\n",
       "      <td>2014.296424</td>\n",
       "      <td>6.916724e+05</td>\n",
       "      <td>72.959631</td>\n",
       "      <td>0.002307</td>\n",
       "      <td>0.001153</td>\n",
       "      <td>0.001153</td>\n",
       "      <td>0.001153</td>\n",
       "      <td>0.001153</td>\n",
       "      <td>0.001153</td>\n",
       "      <td>0.003460</td>\n",
       "      <td>...</td>\n",
       "      <td>0.001153</td>\n",
       "      <td>0.002307</td>\n",
       "      <td>0.001153</td>\n",
       "      <td>0.001153</td>\n",
       "      <td>0.003460</td>\n",
       "      <td>0.001153</td>\n",
       "      <td>0.222607</td>\n",
       "      <td>0.186851</td>\n",
       "      <td>0.320646</td>\n",
       "      <td>0.269896</td>\n",
       "    </tr>\n",
       "    <tr>\n",
       "      <th>std</th>\n",
       "      <td>1.362149</td>\n",
       "      <td>1.237520e+06</td>\n",
       "      <td>12.209563</td>\n",
       "      <td>0.048001</td>\n",
       "      <td>0.033962</td>\n",
       "      <td>0.033962</td>\n",
       "      <td>0.033962</td>\n",
       "      <td>0.033962</td>\n",
       "      <td>0.033962</td>\n",
       "      <td>0.058756</td>\n",
       "      <td>...</td>\n",
       "      <td>0.033962</td>\n",
       "      <td>0.048001</td>\n",
       "      <td>0.033962</td>\n",
       "      <td>0.033962</td>\n",
       "      <td>0.058756</td>\n",
       "      <td>0.033962</td>\n",
       "      <td>0.416236</td>\n",
       "      <td>0.390017</td>\n",
       "      <td>0.466994</td>\n",
       "      <td>0.444162</td>\n",
       "    </tr>\n",
       "    <tr>\n",
       "      <th>min</th>\n",
       "      <td>2012.000000</td>\n",
       "      <td>1.000000e+04</td>\n",
       "      <td>19.000000</td>\n",
       "      <td>0.000000</td>\n",
       "      <td>0.000000</td>\n",
       "      <td>0.000000</td>\n",
       "      <td>0.000000</td>\n",
       "      <td>0.000000</td>\n",
       "      <td>0.000000</td>\n",
       "      <td>0.000000</td>\n",
       "      <td>...</td>\n",
       "      <td>0.000000</td>\n",
       "      <td>0.000000</td>\n",
       "      <td>0.000000</td>\n",
       "      <td>0.000000</td>\n",
       "      <td>0.000000</td>\n",
       "      <td>0.000000</td>\n",
       "      <td>0.000000</td>\n",
       "      <td>0.000000</td>\n",
       "      <td>0.000000</td>\n",
       "      <td>0.000000</td>\n",
       "    </tr>\n",
       "    <tr>\n",
       "      <th>25%</th>\n",
       "      <td>2013.000000</td>\n",
       "      <td>9.000000e+04</td>\n",
       "      <td>67.000000</td>\n",
       "      <td>0.000000</td>\n",
       "      <td>0.000000</td>\n",
       "      <td>0.000000</td>\n",
       "      <td>0.000000</td>\n",
       "      <td>0.000000</td>\n",
       "      <td>0.000000</td>\n",
       "      <td>0.000000</td>\n",
       "      <td>...</td>\n",
       "      <td>0.000000</td>\n",
       "      <td>0.000000</td>\n",
       "      <td>0.000000</td>\n",
       "      <td>0.000000</td>\n",
       "      <td>0.000000</td>\n",
       "      <td>0.000000</td>\n",
       "      <td>0.000000</td>\n",
       "      <td>0.000000</td>\n",
       "      <td>0.000000</td>\n",
       "      <td>0.000000</td>\n",
       "    </tr>\n",
       "    <tr>\n",
       "      <th>50%</th>\n",
       "      <td>2014.000000</td>\n",
       "      <td>2.400000e+05</td>\n",
       "      <td>75.000000</td>\n",
       "      <td>0.000000</td>\n",
       "      <td>0.000000</td>\n",
       "      <td>0.000000</td>\n",
       "      <td>0.000000</td>\n",
       "      <td>0.000000</td>\n",
       "      <td>0.000000</td>\n",
       "      <td>0.000000</td>\n",
       "      <td>...</td>\n",
       "      <td>0.000000</td>\n",
       "      <td>0.000000</td>\n",
       "      <td>0.000000</td>\n",
       "      <td>0.000000</td>\n",
       "      <td>0.000000</td>\n",
       "      <td>0.000000</td>\n",
       "      <td>0.000000</td>\n",
       "      <td>0.000000</td>\n",
       "      <td>0.000000</td>\n",
       "      <td>0.000000</td>\n",
       "    </tr>\n",
       "    <tr>\n",
       "      <th>75%</th>\n",
       "      <td>2015.000000</td>\n",
       "      <td>6.850000e+05</td>\n",
       "      <td>81.000000</td>\n",
       "      <td>0.000000</td>\n",
       "      <td>0.000000</td>\n",
       "      <td>0.000000</td>\n",
       "      <td>0.000000</td>\n",
       "      <td>0.000000</td>\n",
       "      <td>0.000000</td>\n",
       "      <td>0.000000</td>\n",
       "      <td>...</td>\n",
       "      <td>0.000000</td>\n",
       "      <td>0.000000</td>\n",
       "      <td>0.000000</td>\n",
       "      <td>0.000000</td>\n",
       "      <td>0.000000</td>\n",
       "      <td>0.000000</td>\n",
       "      <td>0.000000</td>\n",
       "      <td>0.000000</td>\n",
       "      <td>1.000000</td>\n",
       "      <td>1.000000</td>\n",
       "    </tr>\n",
       "    <tr>\n",
       "      <th>max</th>\n",
       "      <td>2016.000000</td>\n",
       "      <td>1.261000e+07</td>\n",
       "      <td>97.000000</td>\n",
       "      <td>1.000000</td>\n",
       "      <td>1.000000</td>\n",
       "      <td>1.000000</td>\n",
       "      <td>1.000000</td>\n",
       "      <td>1.000000</td>\n",
       "      <td>1.000000</td>\n",
       "      <td>1.000000</td>\n",
       "      <td>...</td>\n",
       "      <td>1.000000</td>\n",
       "      <td>1.000000</td>\n",
       "      <td>1.000000</td>\n",
       "      <td>1.000000</td>\n",
       "      <td>1.000000</td>\n",
       "      <td>1.000000</td>\n",
       "      <td>1.000000</td>\n",
       "      <td>1.000000</td>\n",
       "      <td>1.000000</td>\n",
       "      <td>1.000000</td>\n",
       "    </tr>\n",
       "  </tbody>\n",
       "</table>\n",
       "<p>8 rows × 994 columns</p>\n",
       "</div>"
      ],
      "text/plain": [
       "       Year_of_Release  Global_Sales  Critic_Score  Name_7 Days to Die  \\\n",
       "count       867.000000  8.670000e+02    867.000000          867.000000   \n",
       "mean       2014.296424  6.916724e+05     72.959631            0.002307   \n",
       "std           1.362149  1.237520e+06     12.209563            0.048001   \n",
       "min        2012.000000  1.000000e+04     19.000000            0.000000   \n",
       "25%        2013.000000  9.000000e+04     67.000000            0.000000   \n",
       "50%        2014.000000  2.400000e+05     75.000000            0.000000   \n",
       "75%        2015.000000  6.850000e+05     81.000000            0.000000   \n",
       "max        2016.000000  1.261000e+07     97.000000            1.000000   \n",
       "\n",
       "       Name_7th Dragon III Code: VFD  \\\n",
       "count                     867.000000   \n",
       "mean                        0.001153   \n",
       "std                         0.033962   \n",
       "min                         0.000000   \n",
       "25%                         0.000000   \n",
       "50%                         0.000000   \n",
       "75%                         0.000000   \n",
       "max                         1.000000   \n",
       "\n",
       "       Name_Adventure Time: The Secret of the Nameless Kingdom  \\\n",
       "count                                         867.000000         \n",
       "mean                                            0.001153         \n",
       "std                                             0.033962         \n",
       "min                                             0.000000         \n",
       "25%                                             0.000000         \n",
       "50%                                             0.000000         \n",
       "75%                                             0.000000         \n",
       "max                                             1.000000         \n",
       "\n",
       "       Name_Aegis of Earth: Protonovus Assault  \\\n",
       "count                               867.000000   \n",
       "mean                                  0.001153   \n",
       "std                                   0.033962   \n",
       "min                                   0.000000   \n",
       "25%                                   0.000000   \n",
       "50%                                   0.000000   \n",
       "75%                                   0.000000   \n",
       "max                                   1.000000   \n",
       "\n",
       "       Name_Agatha Christie's The ABC Murders  Name_Alan Wake  \\\n",
       "count                              867.000000      867.000000   \n",
       "mean                                 0.001153        0.001153   \n",
       "std                                  0.033962        0.033962   \n",
       "min                                  0.000000        0.000000   \n",
       "25%                                  0.000000        0.000000   \n",
       "50%                                  0.000000        0.000000   \n",
       "75%                                  0.000000        0.000000   \n",
       "max                                  1.000000        1.000000   \n",
       "\n",
       "       Name_Alien: Isolation  ...  Developer_Zipper Interactive  \\\n",
       "count             867.000000  ...                    867.000000   \n",
       "mean                0.003460  ...                      0.001153   \n",
       "std                 0.058756  ...                      0.033962   \n",
       "min                 0.000000  ...                      0.000000   \n",
       "25%                 0.000000  ...                      0.000000   \n",
       "50%                 0.000000  ...                      0.000000   \n",
       "75%                 0.000000  ...                      0.000000   \n",
       "max                 1.000000  ...                      1.000000   \n",
       "\n",
       "       Developer_Zoe Mode  Developer_h.a.n.d. Inc.  Developer_id Software  \\\n",
       "count          867.000000               867.000000             867.000000   \n",
       "mean             0.002307                 0.001153               0.001153   \n",
       "std              0.048001                 0.033962               0.033962   \n",
       "min              0.000000                 0.000000               0.000000   \n",
       "25%              0.000000                 0.000000               0.000000   \n",
       "50%              0.000000                 0.000000               0.000000   \n",
       "75%              0.000000                 0.000000               0.000000   \n",
       "max              1.000000                 1.000000               1.000000   \n",
       "\n",
       "       Developer_n-Space  Developer_syn Sophia    Rating_E  Rating_E10+  \\\n",
       "count         867.000000            867.000000  867.000000   867.000000   \n",
       "mean            0.003460              0.001153    0.222607     0.186851   \n",
       "std             0.058756              0.033962    0.416236     0.390017   \n",
       "min             0.000000              0.000000    0.000000     0.000000   \n",
       "25%             0.000000              0.000000    0.000000     0.000000   \n",
       "50%             0.000000              0.000000    0.000000     0.000000   \n",
       "75%             0.000000              0.000000    0.000000     0.000000   \n",
       "max             1.000000              1.000000    1.000000     1.000000   \n",
       "\n",
       "         Rating_M    Rating_T  \n",
       "count  867.000000  867.000000  \n",
       "mean     0.320646    0.269896  \n",
       "std      0.466994    0.444162  \n",
       "min      0.000000    0.000000  \n",
       "25%      0.000000    0.000000  \n",
       "50%      0.000000    0.000000  \n",
       "75%      1.000000    1.000000  \n",
       "max      1.000000    1.000000  \n",
       "\n",
       "[8 rows x 994 columns]"
      ]
     },
     "execution_count": 28,
     "metadata": {},
     "output_type": "execute_result"
    }
   ],
   "source": [
    "X.describe()"
   ]
  },
  {
   "cell_type": "code",
   "execution_count": 29,
   "metadata": {},
   "outputs": [
    {
     "data": {
      "text/plain": [
       "Action          290\n",
       "Role-Playing    111\n",
       "Shooter         109\n",
       "Sports           94\n",
       "Platform         50\n",
       "Racing           49\n",
       "Misc             44\n",
       "Adventure        37\n",
       "Fighting         31\n",
       "Simulation       22\n",
       "Strategy         21\n",
       "Puzzle            9\n",
       "Name: Genre, dtype: int64"
      ]
     },
     "execution_count": 29,
     "metadata": {},
     "output_type": "execute_result"
    }
   ],
   "source": [
    "# Check the balance of our target values\n",
    "y['Genre'].value_counts()"
   ]
  },
  {
   "cell_type": "code",
   "execution_count": 30,
   "metadata": {},
   "outputs": [],
   "source": [
    "X_train, X_test, y_train, y_test = train_test_split(X, y, random_state=1)"
   ]
  },
  {
   "cell_type": "code",
   "execution_count": 31,
   "metadata": {},
   "outputs": [
    {
     "data": {
      "text/plain": [
       "Counter({'Genre': 1})"
      ]
     },
     "execution_count": 31,
     "metadata": {},
     "output_type": "execute_result"
    }
   ],
   "source": [
    "# Resample the training data with the RandomOversampler\n",
    "ros = RandomOverSampler(random_state=1)\n",
    "X_resampled, y_resampled = ros.fit_resample(X_train, y_train)\n",
    "\n",
    "Counter(y_resampled)"
   ]
  },
  {
   "cell_type": "code",
   "execution_count": 32,
   "metadata": {},
   "outputs": [
    {
     "data": {
      "text/plain": [
       "LogisticRegression(random_state=1)"
      ]
     },
     "execution_count": 32,
     "metadata": {},
     "output_type": "execute_result"
    }
   ],
   "source": [
    "model = LogisticRegression(solver='lbfgs', random_state=1)\n",
    "\n",
    "model.fit(X_resampled, y_resampled)"
   ]
  },
  {
   "cell_type": "code",
   "execution_count": 33,
   "metadata": {},
   "outputs": [
    {
     "data": {
      "text/plain": [
       "0.11846450733437035"
      ]
     },
     "execution_count": 33,
     "metadata": {},
     "output_type": "execute_result"
    }
   ],
   "source": [
    "y_pred = model.predict(X_test)\n",
    "\n",
    "balanced_accuracy_score(y_test, y_pred)"
   ]
  },
  {
   "cell_type": "code",
   "execution_count": 34,
   "metadata": {},
   "outputs": [
    {
     "data": {
      "text/plain": [
       "array([[ 1, 38,  1,  1,  1,  3,  3,  1, 11,  2,  1, 10],\n",
       "       [ 0,  5,  0,  0,  0,  1,  0,  0,  1,  0,  0,  0],\n",
       "       [ 0,  3,  0,  0,  0,  0,  0,  0,  0,  0,  0,  0],\n",
       "       [ 1,  3,  1,  1,  1,  1,  1,  0,  1,  0,  0,  3],\n",
       "       [ 0,  4,  0,  0,  0,  1,  0,  0,  4,  0,  0,  2],\n",
       "       [ 0,  3,  0,  0,  0,  0,  0,  0,  0,  0,  0,  0],\n",
       "       [ 0,  8,  0,  0,  0,  0,  0,  1,  0,  1,  0,  3],\n",
       "       [ 1, 17,  0,  1,  0,  1,  0,  0,  1,  0,  1,  3],\n",
       "       [ 0, 12,  0,  0,  1,  1,  2,  3, 11,  0,  0,  3],\n",
       "       [ 0,  1,  0,  0,  0,  0,  0,  0,  0,  0,  0,  1],\n",
       "       [ 0, 10,  2,  0,  2,  2,  2,  0,  8,  1,  1,  2],\n",
       "       [ 0,  1,  0,  1,  0,  1,  0,  0,  0,  0,  0,  1]], dtype=int64)"
      ]
     },
     "execution_count": 34,
     "metadata": {},
     "output_type": "execute_result"
    }
   ],
   "source": [
    "confusion_matrix(y_test, y_pred)"
   ]
  },
  {
   "cell_type": "code",
   "execution_count": 35,
   "metadata": {},
   "outputs": [
    {
     "data": {
      "text/html": [
       "<div>\n",
       "<style scoped>\n",
       "    .dataframe tbody tr th:only-of-type {\n",
       "        vertical-align: middle;\n",
       "    }\n",
       "\n",
       "    .dataframe tbody tr th {\n",
       "        vertical-align: top;\n",
       "    }\n",
       "\n",
       "    .dataframe thead th {\n",
       "        text-align: right;\n",
       "    }\n",
       "</style>\n",
       "<table border=\"1\" class=\"dataframe\">\n",
       "  <thead>\n",
       "    <tr style=\"text-align: right;\">\n",
       "      <th></th>\n",
       "      <th>Predicted Action</th>\n",
       "      <th>Predicted Shooter</th>\n",
       "      <th>Predicted Sports</th>\n",
       "      <th>Predicted Role-Playing</th>\n",
       "      <th>Predicted Racing</th>\n",
       "      <th>Predicted Platform</th>\n",
       "      <th>Predicted Misc</th>\n",
       "      <th>Predicted Adventure</th>\n",
       "      <th>Predicted Fighting</th>\n",
       "      <th>Predicted Strategy</th>\n",
       "      <th>Predicted Simulation</th>\n",
       "      <th>Predicted Puzzle</th>\n",
       "    </tr>\n",
       "  </thead>\n",
       "  <tbody>\n",
       "    <tr>\n",
       "      <th>Actual Action</th>\n",
       "      <td>1</td>\n",
       "      <td>38</td>\n",
       "      <td>1</td>\n",
       "      <td>1</td>\n",
       "      <td>1</td>\n",
       "      <td>3</td>\n",
       "      <td>3</td>\n",
       "      <td>1</td>\n",
       "      <td>11</td>\n",
       "      <td>2</td>\n",
       "      <td>1</td>\n",
       "      <td>10</td>\n",
       "    </tr>\n",
       "    <tr>\n",
       "      <th>Actual Shooter</th>\n",
       "      <td>0</td>\n",
       "      <td>5</td>\n",
       "      <td>0</td>\n",
       "      <td>0</td>\n",
       "      <td>0</td>\n",
       "      <td>1</td>\n",
       "      <td>0</td>\n",
       "      <td>0</td>\n",
       "      <td>1</td>\n",
       "      <td>0</td>\n",
       "      <td>0</td>\n",
       "      <td>0</td>\n",
       "    </tr>\n",
       "    <tr>\n",
       "      <th>Actual Sports</th>\n",
       "      <td>0</td>\n",
       "      <td>3</td>\n",
       "      <td>0</td>\n",
       "      <td>0</td>\n",
       "      <td>0</td>\n",
       "      <td>0</td>\n",
       "      <td>0</td>\n",
       "      <td>0</td>\n",
       "      <td>0</td>\n",
       "      <td>0</td>\n",
       "      <td>0</td>\n",
       "      <td>0</td>\n",
       "    </tr>\n",
       "    <tr>\n",
       "      <th>Actual Role-Playing</th>\n",
       "      <td>1</td>\n",
       "      <td>3</td>\n",
       "      <td>1</td>\n",
       "      <td>1</td>\n",
       "      <td>1</td>\n",
       "      <td>1</td>\n",
       "      <td>1</td>\n",
       "      <td>0</td>\n",
       "      <td>1</td>\n",
       "      <td>0</td>\n",
       "      <td>0</td>\n",
       "      <td>3</td>\n",
       "    </tr>\n",
       "    <tr>\n",
       "      <th>Actual Racing</th>\n",
       "      <td>0</td>\n",
       "      <td>4</td>\n",
       "      <td>0</td>\n",
       "      <td>0</td>\n",
       "      <td>0</td>\n",
       "      <td>1</td>\n",
       "      <td>0</td>\n",
       "      <td>0</td>\n",
       "      <td>4</td>\n",
       "      <td>0</td>\n",
       "      <td>0</td>\n",
       "      <td>2</td>\n",
       "    </tr>\n",
       "    <tr>\n",
       "      <th>Actual Platform</th>\n",
       "      <td>0</td>\n",
       "      <td>3</td>\n",
       "      <td>0</td>\n",
       "      <td>0</td>\n",
       "      <td>0</td>\n",
       "      <td>0</td>\n",
       "      <td>0</td>\n",
       "      <td>0</td>\n",
       "      <td>0</td>\n",
       "      <td>0</td>\n",
       "      <td>0</td>\n",
       "      <td>0</td>\n",
       "    </tr>\n",
       "    <tr>\n",
       "      <th>Actual Misc</th>\n",
       "      <td>0</td>\n",
       "      <td>8</td>\n",
       "      <td>0</td>\n",
       "      <td>0</td>\n",
       "      <td>0</td>\n",
       "      <td>0</td>\n",
       "      <td>0</td>\n",
       "      <td>1</td>\n",
       "      <td>0</td>\n",
       "      <td>1</td>\n",
       "      <td>0</td>\n",
       "      <td>3</td>\n",
       "    </tr>\n",
       "    <tr>\n",
       "      <th>Actual Adventure</th>\n",
       "      <td>1</td>\n",
       "      <td>17</td>\n",
       "      <td>0</td>\n",
       "      <td>1</td>\n",
       "      <td>0</td>\n",
       "      <td>1</td>\n",
       "      <td>0</td>\n",
       "      <td>0</td>\n",
       "      <td>1</td>\n",
       "      <td>0</td>\n",
       "      <td>1</td>\n",
       "      <td>3</td>\n",
       "    </tr>\n",
       "    <tr>\n",
       "      <th>Actual Fighting</th>\n",
       "      <td>0</td>\n",
       "      <td>12</td>\n",
       "      <td>0</td>\n",
       "      <td>0</td>\n",
       "      <td>1</td>\n",
       "      <td>1</td>\n",
       "      <td>2</td>\n",
       "      <td>3</td>\n",
       "      <td>11</td>\n",
       "      <td>0</td>\n",
       "      <td>0</td>\n",
       "      <td>3</td>\n",
       "    </tr>\n",
       "    <tr>\n",
       "      <th>Actual Strategy</th>\n",
       "      <td>0</td>\n",
       "      <td>1</td>\n",
       "      <td>0</td>\n",
       "      <td>0</td>\n",
       "      <td>0</td>\n",
       "      <td>0</td>\n",
       "      <td>0</td>\n",
       "      <td>0</td>\n",
       "      <td>0</td>\n",
       "      <td>0</td>\n",
       "      <td>0</td>\n",
       "      <td>1</td>\n",
       "    </tr>\n",
       "    <tr>\n",
       "      <th>Actual Simulation</th>\n",
       "      <td>0</td>\n",
       "      <td>10</td>\n",
       "      <td>2</td>\n",
       "      <td>0</td>\n",
       "      <td>2</td>\n",
       "      <td>2</td>\n",
       "      <td>2</td>\n",
       "      <td>0</td>\n",
       "      <td>8</td>\n",
       "      <td>1</td>\n",
       "      <td>1</td>\n",
       "      <td>2</td>\n",
       "    </tr>\n",
       "    <tr>\n",
       "      <th>Actual Puzzle</th>\n",
       "      <td>0</td>\n",
       "      <td>1</td>\n",
       "      <td>0</td>\n",
       "      <td>1</td>\n",
       "      <td>0</td>\n",
       "      <td>1</td>\n",
       "      <td>0</td>\n",
       "      <td>0</td>\n",
       "      <td>0</td>\n",
       "      <td>0</td>\n",
       "      <td>0</td>\n",
       "      <td>1</td>\n",
       "    </tr>\n",
       "  </tbody>\n",
       "</table>\n",
       "</div>"
      ],
      "text/plain": [
       "                     Predicted Action  Predicted Shooter  Predicted Sports  \\\n",
       "Actual Action                       1                 38                 1   \n",
       "Actual Shooter                      0                  5                 0   \n",
       "Actual Sports                       0                  3                 0   \n",
       "Actual Role-Playing                 1                  3                 1   \n",
       "Actual Racing                       0                  4                 0   \n",
       "Actual Platform                     0                  3                 0   \n",
       "Actual Misc                         0                  8                 0   \n",
       "Actual Adventure                    1                 17                 0   \n",
       "Actual Fighting                     0                 12                 0   \n",
       "Actual Strategy                     0                  1                 0   \n",
       "Actual Simulation                   0                 10                 2   \n",
       "Actual Puzzle                       0                  1                 0   \n",
       "\n",
       "                     Predicted Role-Playing  Predicted Racing  \\\n",
       "Actual Action                             1                 1   \n",
       "Actual Shooter                            0                 0   \n",
       "Actual Sports                             0                 0   \n",
       "Actual Role-Playing                       1                 1   \n",
       "Actual Racing                             0                 0   \n",
       "Actual Platform                           0                 0   \n",
       "Actual Misc                               0                 0   \n",
       "Actual Adventure                          1                 0   \n",
       "Actual Fighting                           0                 1   \n",
       "Actual Strategy                           0                 0   \n",
       "Actual Simulation                         0                 2   \n",
       "Actual Puzzle                             1                 0   \n",
       "\n",
       "                     Predicted Platform  Predicted Misc  Predicted Adventure  \\\n",
       "Actual Action                         3               3                    1   \n",
       "Actual Shooter                        1               0                    0   \n",
       "Actual Sports                         0               0                    0   \n",
       "Actual Role-Playing                   1               1                    0   \n",
       "Actual Racing                         1               0                    0   \n",
       "Actual Platform                       0               0                    0   \n",
       "Actual Misc                           0               0                    1   \n",
       "Actual Adventure                      1               0                    0   \n",
       "Actual Fighting                       1               2                    3   \n",
       "Actual Strategy                       0               0                    0   \n",
       "Actual Simulation                     2               2                    0   \n",
       "Actual Puzzle                         1               0                    0   \n",
       "\n",
       "                     Predicted Fighting  Predicted Strategy  \\\n",
       "Actual Action                        11                   2   \n",
       "Actual Shooter                        1                   0   \n",
       "Actual Sports                         0                   0   \n",
       "Actual Role-Playing                   1                   0   \n",
       "Actual Racing                         4                   0   \n",
       "Actual Platform                       0                   0   \n",
       "Actual Misc                           0                   1   \n",
       "Actual Adventure                      1                   0   \n",
       "Actual Fighting                      11                   0   \n",
       "Actual Strategy                       0                   0   \n",
       "Actual Simulation                     8                   1   \n",
       "Actual Puzzle                         0                   0   \n",
       "\n",
       "                     Predicted Simulation  Predicted Puzzle  \n",
       "Actual Action                           1                10  \n",
       "Actual Shooter                          0                 0  \n",
       "Actual Sports                           0                 0  \n",
       "Actual Role-Playing                     0                 3  \n",
       "Actual Racing                           0                 2  \n",
       "Actual Platform                         0                 0  \n",
       "Actual Misc                             0                 3  \n",
       "Actual Adventure                        1                 3  \n",
       "Actual Fighting                         0                 3  \n",
       "Actual Strategy                         0                 1  \n",
       "Actual Simulation                       1                 2  \n",
       "Actual Puzzle                           0                 1  "
      ]
     },
     "execution_count": 35,
     "metadata": {},
     "output_type": "execute_result"
    }
   ],
   "source": [
    "# Create a DataFrame from the confusion matrix.\n",
    "NRO_cm = confusion_matrix(y_test, y_pred)\n",
    "\n",
    "NRO_cm_df = pd.DataFrame(\n",
    "    NRO_cm, \n",
    "    index=[\"Actual Action\", \"Actual Shooter\", \"Actual Sports\", \"Actual Role-Playing\", \"Actual Racing\", \"Actual Platform\", \"Actual Misc\", \"Actual Adventure\", \"Actual Fighting\", \"Actual Strategy\", \"Actual Simulation\", \"Actual Puzzle\"], \n",
    "    columns=[\"Predicted Action\", \"Predicted Shooter\", \"Predicted Sports\", \"Predicted Role-Playing\", \"Predicted Racing\", \"Predicted Platform\", \"Predicted Misc\", \"Predicted Adventure\", \"Predicted Fighting\", \"Predicted Strategy\", \"Predicted Simulation\", \"Predicted Puzzle\"])\n",
    "\n",
    "NRO_cm_df"
   ]
  },
  {
   "cell_type": "code",
   "execution_count": 36,
   "metadata": {},
   "outputs": [
    {
     "name": "stdout",
     "output_type": "stream",
     "text": [
      "C:\\Program Files\\Google\\Chrome\\Application\\chrome.exe\n",
      "C:\\Program Files\\Google\\Chrome\\Application\\chrome.exe\n",
      "C:\\Program Files\\Google\\Chrome\\Application\\chrome.exe\n",
      "C:\\Program Files\\Google\\Chrome\\Application\\chrome.exe\n",
      "C:\\Program Files\\Google\\Chrome\\Application\\chrome.exe\n",
      "C:\\Program Files\\Google\\Chrome\\Application\\chrome.exe\n"
     ]
    }
   ],
   "source": [
    "dfi.export(NRO_cm_df, \"analysis/NRO By Genre.png\")"
   ]
  },
  {
   "cell_type": "code",
   "execution_count": 37,
   "metadata": {},
   "outputs": [
    {
     "name": "stdout",
     "output_type": "stream",
     "text": [
      "Naive Random Oversampling By Genre\n",
      "\n",
      "\n",
      "Accuracy: 11.85% \n",
      "\n",
      "\n",
      "                    pre       rec       spe        f1       geo       iba       sup\n",
      "\n",
      "      Action       0.33      0.01      0.99      0.03      0.12      0.01        73\n",
      "   Adventure       0.05      0.71      0.52      0.09      0.61      0.38         7\n",
      "    Fighting       0.00      0.00      0.98      0.00      0.00      0.00         3\n",
      "        Misc       0.25      0.08      0.99      0.12      0.28      0.07        13\n",
      "    Platform       0.00      0.00      0.98      0.00      0.00      0.00        11\n",
      "      Puzzle       0.00      0.00      0.95      0.00      0.00      0.00         3\n",
      "      Racing       0.00      0.00      0.96      0.00      0.00      0.00        13\n",
      "Role-Playing       0.00      0.00      0.97      0.00      0.00      0.00        25\n",
      "     Shooter       0.30      0.33      0.86      0.31      0.54      0.27        33\n",
      "  Simulation       0.00      0.00      0.98      0.00      0.00      0.00         2\n",
      "      Sports       0.33      0.03      0.99      0.06      0.18      0.03        30\n",
      "    Strategy       0.04      0.25      0.87      0.06      0.47      0.20         4\n",
      "\n",
      " avg / total       0.22      0.09      0.95      0.08      0.19      0.07       217\n",
      "\n"
     ]
    }
   ],
   "source": [
    "print(\"Naive Random Oversampling By Genre\")\n",
    "print(\"\\n\")\n",
    "print(f\"Accuracy: { balanced_accuracy_score(y_test, y_pred) * 100:.2f}% \\n\\n\")\n",
    "print(classification_report_imbalanced(y_test, y_pred))"
   ]
  },
  {
   "attachments": {},
   "cell_type": "markdown",
   "metadata": {},
   "source": [
    "# SMOTE Oversampling"
   ]
  },
  {
   "attachments": {},
   "cell_type": "markdown",
   "metadata": {},
   "source": [
    "### SMOTE Oversampling By Platform"
   ]
  },
  {
   "cell_type": "code",
   "execution_count": 38,
   "metadata": {},
   "outputs": [],
   "source": [
    "target = [\"Platform\"]\n",
    "\n",
    "# Create our features\n",
    "X = pd.get_dummies(game_df.drop(columns='Platform').copy())\n",
    "\n",
    "# Create our target\n",
    "y = game_df[target].copy()"
   ]
  },
  {
   "cell_type": "code",
   "execution_count": 39,
   "metadata": {},
   "outputs": [],
   "source": [
    "X_train, X_test, y_train, y_test = train_test_split(X, y, random_state=1)"
   ]
  },
  {
   "cell_type": "code",
   "execution_count": 40,
   "metadata": {},
   "outputs": [
    {
     "data": {
      "text/plain": [
       "Counter({'Platform': 1})"
      ]
     },
     "execution_count": 40,
     "metadata": {},
     "output_type": "execute_result"
    }
   ],
   "source": [
    "# Resample the training data with SMOTE\n",
    "from imblearn.over_sampling import SMOTE\n",
    "\n",
    "X_resampled, y_resampled = SMOTE(random_state=1).fit_resample(X_train, y_train)\n",
    "\n",
    "Counter(y_resampled)"
   ]
  },
  {
   "cell_type": "code",
   "execution_count": 41,
   "metadata": {},
   "outputs": [
    {
     "data": {
      "text/plain": [
       "LogisticRegression(random_state=1)"
      ]
     },
     "execution_count": 41,
     "metadata": {},
     "output_type": "execute_result"
    }
   ],
   "source": [
    "# Train the Logistic Regression model using the resampled data\n",
    "model.fit(X_resampled, y_resampled)"
   ]
  },
  {
   "cell_type": "code",
   "execution_count": 42,
   "metadata": {},
   "outputs": [
    {
     "data": {
      "text/plain": [
       "0.18895133473800887"
      ]
     },
     "execution_count": 42,
     "metadata": {},
     "output_type": "execute_result"
    }
   ],
   "source": [
    "# Calculated the balanced accuracy score\n",
    "y_pred = model.predict(X_test)\n",
    "\n",
    "balanced_accuracy_score(y_test, y_pred)"
   ]
  },
  {
   "cell_type": "code",
   "execution_count": 43,
   "metadata": {},
   "outputs": [
    {
     "data": {
      "text/plain": [
       "array([[ 1,  3,  5,  9,  0,  1],\n",
       "       [ 4,  3,  4, 35,  0,  1],\n",
       "       [ 7, 10, 13, 31,  0,  2],\n",
       "       [ 3,  3,  0, 20,  0,  0],\n",
       "       [ 6,  4,  5,  8,  1,  0],\n",
       "       [ 5,  4, 14, 13,  2,  0]], dtype=int64)"
      ]
     },
     "execution_count": 43,
     "metadata": {},
     "output_type": "execute_result"
    }
   ],
   "source": [
    "# Display the confusion matrix\n",
    "confusion_matrix(y_test, y_pred)"
   ]
  },
  {
   "cell_type": "code",
   "execution_count": 44,
   "metadata": {},
   "outputs": [
    {
     "data": {
      "text/html": [
       "<div>\n",
       "<style scoped>\n",
       "    .dataframe tbody tr th:only-of-type {\n",
       "        vertical-align: middle;\n",
       "    }\n",
       "\n",
       "    .dataframe tbody tr th {\n",
       "        vertical-align: top;\n",
       "    }\n",
       "\n",
       "    .dataframe thead th {\n",
       "        text-align: right;\n",
       "    }\n",
       "</style>\n",
       "<table border=\"1\" class=\"dataframe\">\n",
       "  <thead>\n",
       "    <tr style=\"text-align: right;\">\n",
       "      <th></th>\n",
       "      <th>Predicted PS4</th>\n",
       "      <th>Predicted PC</th>\n",
       "      <th>Predicted XOne</th>\n",
       "      <th>Predicted WiiU</th>\n",
       "      <th>Predicted 3DS</th>\n",
       "      <th>Predicted PSV</th>\n",
       "    </tr>\n",
       "  </thead>\n",
       "  <tbody>\n",
       "    <tr>\n",
       "      <th>Actual PS4</th>\n",
       "      <td>1</td>\n",
       "      <td>3</td>\n",
       "      <td>5</td>\n",
       "      <td>9</td>\n",
       "      <td>0</td>\n",
       "      <td>1</td>\n",
       "    </tr>\n",
       "    <tr>\n",
       "      <th>Actual PC</th>\n",
       "      <td>4</td>\n",
       "      <td>3</td>\n",
       "      <td>4</td>\n",
       "      <td>35</td>\n",
       "      <td>0</td>\n",
       "      <td>1</td>\n",
       "    </tr>\n",
       "    <tr>\n",
       "      <th>Actual XOne</th>\n",
       "      <td>7</td>\n",
       "      <td>10</td>\n",
       "      <td>13</td>\n",
       "      <td>31</td>\n",
       "      <td>0</td>\n",
       "      <td>2</td>\n",
       "    </tr>\n",
       "    <tr>\n",
       "      <th>Actual WiiU</th>\n",
       "      <td>3</td>\n",
       "      <td>3</td>\n",
       "      <td>0</td>\n",
       "      <td>20</td>\n",
       "      <td>0</td>\n",
       "      <td>0</td>\n",
       "    </tr>\n",
       "    <tr>\n",
       "      <th>Actual 3DS</th>\n",
       "      <td>6</td>\n",
       "      <td>4</td>\n",
       "      <td>5</td>\n",
       "      <td>8</td>\n",
       "      <td>1</td>\n",
       "      <td>0</td>\n",
       "    </tr>\n",
       "    <tr>\n",
       "      <th>Actual PSV</th>\n",
       "      <td>5</td>\n",
       "      <td>4</td>\n",
       "      <td>14</td>\n",
       "      <td>13</td>\n",
       "      <td>2</td>\n",
       "      <td>0</td>\n",
       "    </tr>\n",
       "  </tbody>\n",
       "</table>\n",
       "</div>"
      ],
      "text/plain": [
       "             Predicted PS4  Predicted PC  Predicted XOne  Predicted WiiU  \\\n",
       "Actual PS4               1             3               5               9   \n",
       "Actual PC                4             3               4              35   \n",
       "Actual XOne              7            10              13              31   \n",
       "Actual WiiU              3             3               0              20   \n",
       "Actual 3DS               6             4               5               8   \n",
       "Actual PSV               5             4              14              13   \n",
       "\n",
       "             Predicted 3DS  Predicted PSV  \n",
       "Actual PS4               0              1  \n",
       "Actual PC                0              1  \n",
       "Actual XOne              0              2  \n",
       "Actual WiiU              0              0  \n",
       "Actual 3DS               1              0  \n",
       "Actual PSV               2              0  "
      ]
     },
     "execution_count": 44,
     "metadata": {},
     "output_type": "execute_result"
    }
   ],
   "source": [
    "# Create a DataFrame from the confusion matrix.\n",
    "SMOTE_cm = confusion_matrix(y_test, y_pred)\n",
    "\n",
    "SMOTE_cm_df = pd.DataFrame(\n",
    "    SMOTE_cm, \n",
    "    index=[\"Actual PS4\", \"Actual PC\", \"Actual XOne\", \"Actual WiiU\", \"Actual 3DS\", \"Actual PSV\"], \n",
    "    columns=[\"Predicted PS4\", \"Predicted PC\", \"Predicted XOne\", \"Predicted WiiU\", \"Predicted 3DS\", \"Predicted PSV\"])\n",
    "\n",
    "SMOTE_cm_df"
   ]
  },
  {
   "cell_type": "code",
   "execution_count": 45,
   "metadata": {},
   "outputs": [
    {
     "name": "stdout",
     "output_type": "stream",
     "text": [
      "C:\\Program Files\\Google\\Chrome\\Application\\chrome.exe\n",
      "C:\\Program Files\\Google\\Chrome\\Application\\chrome.exe\n"
     ]
    }
   ],
   "source": [
    "# Save the SMOTE dataframe\n",
    "dfi.export(SMOTE_cm_df, \"analysis/SMOTE By Platform.png\")"
   ]
  },
  {
   "cell_type": "code",
   "execution_count": 46,
   "metadata": {},
   "outputs": [
    {
     "name": "stdout",
     "output_type": "stream",
     "text": [
      "SMOTE By Platform\n",
      "\n",
      "\n",
      "Accuracy: 18.90% \n",
      "\n",
      "\n",
      "                   pre       rec       spe        f1       geo       iba       sup\n",
      "\n",
      "        3DS       0.04      0.05      0.87      0.04      0.21      0.04        19\n",
      "         PC       0.11      0.06      0.86      0.08      0.23      0.05        47\n",
      "        PS4       0.32      0.21      0.82      0.25      0.41      0.16        63\n",
      "        PSV       0.17      0.77      0.50      0.28      0.62      0.39        26\n",
      "       WiiU       0.33      0.04      0.99      0.07      0.20      0.04        24\n",
      "       XOne       0.00      0.00      0.98      0.00      0.00      0.00        38\n",
      "\n",
      "avg / total       0.18      0.18      0.84      0.14      0.29      0.11       217\n",
      "\n"
     ]
    }
   ],
   "source": [
    "# Print the imbalanced classification report\n",
    "print(\"SMOTE By Platform\")\n",
    "print(\"\\n\")\n",
    "print(f\"Accuracy: { balanced_accuracy_score(y_test, y_pred) * 100:.2f}% \\n\\n\")\n",
    "print(classification_report_imbalanced(y_test, y_pred))"
   ]
  },
  {
   "attachments": {},
   "cell_type": "markdown",
   "metadata": {},
   "source": [
    "### SMOTE Oversampling By Rating"
   ]
  },
  {
   "cell_type": "code",
   "execution_count": 47,
   "metadata": {},
   "outputs": [],
   "source": [
    "target = [\"Rating\"]\n",
    "\n",
    "# Create our features\n",
    "X = pd.get_dummies(game_df.drop(columns='Rating').copy())\n",
    "\n",
    "# Create our target\n",
    "y = game_df[target].copy()"
   ]
  },
  {
   "cell_type": "code",
   "execution_count": 48,
   "metadata": {},
   "outputs": [],
   "source": [
    "X_train, X_test, y_train, y_test = train_test_split(X, y, random_state=1)"
   ]
  },
  {
   "cell_type": "code",
   "execution_count": 49,
   "metadata": {},
   "outputs": [
    {
     "data": {
      "text/plain": [
       "Counter({'Rating': 1})"
      ]
     },
     "execution_count": 49,
     "metadata": {},
     "output_type": "execute_result"
    }
   ],
   "source": [
    "X_resampled, y_resampled = SMOTE(random_state=1).fit_resample(X_train, y_train)\n",
    "\n",
    "Counter(y_resampled)"
   ]
  },
  {
   "cell_type": "code",
   "execution_count": 50,
   "metadata": {},
   "outputs": [
    {
     "data": {
      "text/plain": [
       "LogisticRegression(random_state=1)"
      ]
     },
     "execution_count": 50,
     "metadata": {},
     "output_type": "execute_result"
    }
   ],
   "source": [
    "# Train the Logistic Regression model using the resampled data\n",
    "model.fit(X_resampled, y_resampled)"
   ]
  },
  {
   "cell_type": "code",
   "execution_count": 51,
   "metadata": {},
   "outputs": [
    {
     "data": {
      "text/plain": [
       "0.28839887522116436"
      ]
     },
     "execution_count": 51,
     "metadata": {},
     "output_type": "execute_result"
    }
   ],
   "source": [
    "# Calculated the balanced accuracy score\n",
    "y_pred = model.predict(X_test)\n",
    "\n",
    "balanced_accuracy_score(y_test, y_pred)"
   ]
  },
  {
   "cell_type": "code",
   "execution_count": 52,
   "metadata": {},
   "outputs": [
    {
     "data": {
      "text/plain": [
       "array([[ 3,  2, 17, 33],\n",
       "       [ 9,  5,  4, 22],\n",
       "       [ 8,  2, 17, 56],\n",
       "       [ 1,  4,  4, 30]], dtype=int64)"
      ]
     },
     "execution_count": 52,
     "metadata": {},
     "output_type": "execute_result"
    }
   ],
   "source": [
    "# Display the confusion matrix\n",
    "confusion_matrix(y_test, y_pred)"
   ]
  },
  {
   "cell_type": "code",
   "execution_count": 53,
   "metadata": {},
   "outputs": [
    {
     "data": {
      "text/html": [
       "<div>\n",
       "<style scoped>\n",
       "    .dataframe tbody tr th:only-of-type {\n",
       "        vertical-align: middle;\n",
       "    }\n",
       "\n",
       "    .dataframe tbody tr th {\n",
       "        vertical-align: top;\n",
       "    }\n",
       "\n",
       "    .dataframe thead th {\n",
       "        text-align: right;\n",
       "    }\n",
       "</style>\n",
       "<table border=\"1\" class=\"dataframe\">\n",
       "  <thead>\n",
       "    <tr style=\"text-align: right;\">\n",
       "      <th></th>\n",
       "      <th>Predicted M</th>\n",
       "      <th>Predicted T</th>\n",
       "      <th>Predicted E</th>\n",
       "      <th>Predicted E10+</th>\n",
       "    </tr>\n",
       "  </thead>\n",
       "  <tbody>\n",
       "    <tr>\n",
       "      <th>Actual M</th>\n",
       "      <td>3</td>\n",
       "      <td>2</td>\n",
       "      <td>17</td>\n",
       "      <td>33</td>\n",
       "    </tr>\n",
       "    <tr>\n",
       "      <th>Actual T</th>\n",
       "      <td>9</td>\n",
       "      <td>5</td>\n",
       "      <td>4</td>\n",
       "      <td>22</td>\n",
       "    </tr>\n",
       "    <tr>\n",
       "      <th>Actual E</th>\n",
       "      <td>8</td>\n",
       "      <td>2</td>\n",
       "      <td>17</td>\n",
       "      <td>56</td>\n",
       "    </tr>\n",
       "    <tr>\n",
       "      <th>Actual E10+</th>\n",
       "      <td>1</td>\n",
       "      <td>4</td>\n",
       "      <td>4</td>\n",
       "      <td>30</td>\n",
       "    </tr>\n",
       "  </tbody>\n",
       "</table>\n",
       "</div>"
      ],
      "text/plain": [
       "             Predicted M  Predicted T  Predicted E  Predicted E10+\n",
       "Actual M               3            2           17              33\n",
       "Actual T               9            5            4              22\n",
       "Actual E               8            2           17              56\n",
       "Actual E10+            1            4            4              30"
      ]
     },
     "execution_count": 53,
     "metadata": {},
     "output_type": "execute_result"
    }
   ],
   "source": [
    "# Create a DataFrame from the confusion matrix.\n",
    "SMOTE_cm = confusion_matrix(y_test, y_pred)\n",
    "SMOTE_cm_df = pd.DataFrame(\n",
    "    SMOTE_cm, \n",
    "    index=[\"Actual M\", \"Actual T\", \"Actual E\", \"Actual E10+\"], \n",
    "    columns=[\"Predicted M\", \"Predicted T\", \"Predicted E\", \"Predicted E10+\"])\n",
    "\n",
    "SMOTE_cm_df"
   ]
  },
  {
   "cell_type": "code",
   "execution_count": 54,
   "metadata": {},
   "outputs": [
    {
     "name": "stdout",
     "output_type": "stream",
     "text": [
      "C:\\Program Files\\Google\\Chrome\\Application\\chrome.exe\n"
     ]
    }
   ],
   "source": [
    "dfi.export(SMOTE_cm_df, \"analysis/SMOTE By Rating.png\")"
   ]
  },
  {
   "cell_type": "code",
   "execution_count": 55,
   "metadata": {},
   "outputs": [
    {
     "name": "stdout",
     "output_type": "stream",
     "text": [
      "SMOTE By Rating\n",
      "\n",
      "\n",
      "Accuracy: 28.84% \n",
      "\n",
      "\n",
      "                   pre       rec       spe        f1       geo       iba       sup\n",
      "\n",
      "          E       0.14      0.05      0.89      0.08      0.22      0.04        55\n",
      "       E10+       0.38      0.12      0.95      0.19      0.35      0.11        40\n",
      "          M       0.40      0.20      0.81      0.27      0.41      0.16        83\n",
      "          T       0.21      0.77      0.38      0.33      0.54      0.30        39\n",
      "\n",
      "avg / total       0.30      0.25      0.78      0.22      0.37      0.15       217\n",
      "\n"
     ]
    }
   ],
   "source": [
    "# Print the imbalanced classification report\n",
    "print(\"SMOTE By Rating\")\n",
    "print(\"\\n\")\n",
    "print(f\"Accuracy: { balanced_accuracy_score(y_test, y_pred) * 100:.2f}% \\n\\n\")\n",
    "print(classification_report_imbalanced(y_test, y_pred))"
   ]
  },
  {
   "attachments": {},
   "cell_type": "markdown",
   "metadata": {},
   "source": [
    "### SMOTE Oversampling By Genre"
   ]
  },
  {
   "cell_type": "code",
   "execution_count": 56,
   "metadata": {},
   "outputs": [],
   "source": [
    "# target = [\"Genre\"]\n",
    "\n",
    "# # Create our features\n",
    "# X = pd.get_dummies(game_df.drop(columns='Genre').copy())\n",
    "\n",
    "# # Create our target\n",
    "# y = game_df[target].copy()"
   ]
  },
  {
   "cell_type": "code",
   "execution_count": 57,
   "metadata": {},
   "outputs": [],
   "source": [
    "# X_train, X_test, y_train, y_test = train_test_split(X, y, random_state=1)"
   ]
  },
  {
   "cell_type": "code",
   "execution_count": 58,
   "metadata": {},
   "outputs": [],
   "source": [
    "# Train the Logistic Regression model using the resampled data\n",
    "# X_resampled, y_resampled = SMOTE(random_state=1).fit_resample(X_train, y_train)\n",
    "\n",
    "# Counter(y_resampled)"
   ]
  },
  {
   "cell_type": "code",
   "execution_count": 59,
   "metadata": {},
   "outputs": [],
   "source": [
    "# model.fit(X_resampled, y_resampled)"
   ]
  },
  {
   "cell_type": "code",
   "execution_count": 60,
   "metadata": {},
   "outputs": [],
   "source": [
    "# Calculated the balanced accuracy score\n",
    "# y_pred = model.predict(X_test)\n",
    "\n",
    "# balanced_accuracy_score(y_test, y_pred)"
   ]
  },
  {
   "cell_type": "code",
   "execution_count": 61,
   "metadata": {},
   "outputs": [],
   "source": [
    "# Display the confusion matrix\n",
    "# confusion_matrix(y_test, y_pred)"
   ]
  },
  {
   "cell_type": "code",
   "execution_count": 62,
   "metadata": {},
   "outputs": [],
   "source": [
    "# Create a DataFrame from the confusion matrix.\n",
    "# SMOTE_cm = confusion_matrix(y_test, y_pred)\n",
    "# SMOTE_cm_df = pd.DataFrame(\n",
    "#     SMOTE_cm, \n",
    "#     index=[\"Actual Action\", \"Actual Shooter\", \"Actual Sports\", \"Actual Role-Playing\", \"Actual Racing\", \"Actual Platform\", \"Actual Misc\", \"Actual Adventure\", \"Actual Fighting\", \"Actual Strategy\", \"Actual Simulation\", \"Actual Puzzle\"], \n",
    "#     columns=[\"Predicted Action\", \"Predicted Shooter\", \"Predicted Sports\", \"Predicted Role-Playing\", \"Predicted Racing\", \"Predicted Platform\", \"Predicted Misc\", \"Predicted Adventure\", \"Predicted Fighting\", \"Predicted Strategy\", \"Predicted Simulation\", \"Predicted Puzzle\"])\n",
    "\n",
    "# SMOTE_cm_df"
   ]
  },
  {
   "cell_type": "code",
   "execution_count": 63,
   "metadata": {},
   "outputs": [],
   "source": [
    "# dfi.export(SMOTE_cm_df, \"analysis/SMOTE By Genre.png\")"
   ]
  },
  {
   "cell_type": "code",
   "execution_count": 64,
   "metadata": {},
   "outputs": [],
   "source": [
    "# Print the imbalanced classification report\n",
    "# print(\"SMOTE By Genre\")\n",
    "# print(\"\\n\")\n",
    "# print(f\"Accuracy: { balanced_accuracy_score(y_test, y_pred) * 100:.2f}% \\n\\n\")\n",
    "# print(classification_report_imbalanced(y_test, y_pred))"
   ]
  },
  {
   "attachments": {},
   "cell_type": "markdown",
   "metadata": {},
   "source": [
    "# Undersampling"
   ]
  },
  {
   "attachments": {},
   "cell_type": "markdown",
   "metadata": {},
   "source": [
    "### Undersampling by Platform"
   ]
  },
  {
   "cell_type": "code",
   "execution_count": 65,
   "metadata": {},
   "outputs": [],
   "source": [
    "target = [\"Platform\"]\n",
    "\n",
    "# Create our features\n",
    "X = pd.get_dummies(game_df.drop(columns='Platform').copy())\n",
    "\n",
    "# Create our target\n",
    "y = game_df[target].copy()"
   ]
  },
  {
   "cell_type": "code",
   "execution_count": 66,
   "metadata": {},
   "outputs": [],
   "source": [
    "X_train, X_test, y_train, y_test = train_test_split(X, y, random_state=1)"
   ]
  },
  {
   "cell_type": "code",
   "execution_count": 67,
   "metadata": {},
   "outputs": [
    {
     "data": {
      "text/plain": [
       "Counter({'Platform': 1})"
      ]
     },
     "execution_count": 67,
     "metadata": {},
     "output_type": "execute_result"
    }
   ],
   "source": [
    "# Resample the data using the ClusterCentroids resampler\n",
    "# Warning: This is a large dataset, and this step may take some time to complete\n",
    "from imblearn.under_sampling import ClusterCentroids\n",
    "\n",
    "cc = ClusterCentroids(random_state=1)\n",
    "X_resampled, y_resampled = cc.fit_resample(X_train, y_train)\n",
    "\n",
    "Counter(y_resampled)"
   ]
  },
  {
   "cell_type": "code",
   "execution_count": 68,
   "metadata": {},
   "outputs": [
    {
     "data": {
      "text/plain": [
       "LogisticRegression(random_state=78)"
      ]
     },
     "execution_count": 68,
     "metadata": {},
     "output_type": "execute_result"
    }
   ],
   "source": [
    "# Train the Logistic Regression model using the resampled data\n",
    "from sklearn.linear_model import LogisticRegression\n",
    "\n",
    "model = LogisticRegression(solver='lbfgs', random_state=78)\n",
    "\n",
    "model.fit(X_resampled, y_resampled)"
   ]
  },
  {
   "cell_type": "code",
   "execution_count": 69,
   "metadata": {},
   "outputs": [
    {
     "data": {
      "text/plain": [
       "0.0"
      ]
     },
     "execution_count": 69,
     "metadata": {},
     "output_type": "execute_result"
    }
   ],
   "source": [
    "# Calculated the balanced accuracy score\n",
    "from sklearn.metrics import balanced_accuracy_score\n",
    "\n",
    "balanced_accuracy_score(y_test, y_pred)"
   ]
  },
  {
   "cell_type": "code",
   "execution_count": 70,
   "metadata": {},
   "outputs": [
    {
     "data": {
      "text/plain": [
       "array([[ 1,  2,  4, 11,  0,  1],\n",
       "       [ 1,  1,  3, 38,  3,  1],\n",
       "       [ 2,  6, 12, 38,  4,  1],\n",
       "       [ 0,  2,  0, 23,  1,  0],\n",
       "       [ 1,  3,  4, 11,  4,  1],\n",
       "       [ 0,  3,  9, 16,  5,  5]], dtype=int64)"
      ]
     },
     "execution_count": 70,
     "metadata": {},
     "output_type": "execute_result"
    }
   ],
   "source": [
    "# Display the confusion matrix\n",
    "from sklearn.metrics import confusion_matrix\n",
    "\n",
    "y_pred = model.predict(X_test)\n",
    "\n",
    "confusion_matrix(y_test, y_pred)"
   ]
  },
  {
   "cell_type": "code",
   "execution_count": 71,
   "metadata": {},
   "outputs": [
    {
     "data": {
      "text/html": [
       "<div>\n",
       "<style scoped>\n",
       "    .dataframe tbody tr th:only-of-type {\n",
       "        vertical-align: middle;\n",
       "    }\n",
       "\n",
       "    .dataframe tbody tr th {\n",
       "        vertical-align: top;\n",
       "    }\n",
       "\n",
       "    .dataframe thead th {\n",
       "        text-align: right;\n",
       "    }\n",
       "</style>\n",
       "<table border=\"1\" class=\"dataframe\">\n",
       "  <thead>\n",
       "    <tr style=\"text-align: right;\">\n",
       "      <th></th>\n",
       "      <th>Predicted PS4</th>\n",
       "      <th>Predicted PC</th>\n",
       "      <th>Predicted XOne</th>\n",
       "      <th>Predicted WiiU</th>\n",
       "      <th>Predicted 3DS</th>\n",
       "      <th>Predicted PSV</th>\n",
       "    </tr>\n",
       "  </thead>\n",
       "  <tbody>\n",
       "    <tr>\n",
       "      <th>Actual PS4</th>\n",
       "      <td>1</td>\n",
       "      <td>2</td>\n",
       "      <td>4</td>\n",
       "      <td>11</td>\n",
       "      <td>0</td>\n",
       "      <td>1</td>\n",
       "    </tr>\n",
       "    <tr>\n",
       "      <th>Actual PC</th>\n",
       "      <td>1</td>\n",
       "      <td>1</td>\n",
       "      <td>3</td>\n",
       "      <td>38</td>\n",
       "      <td>3</td>\n",
       "      <td>1</td>\n",
       "    </tr>\n",
       "    <tr>\n",
       "      <th>Actual XOne</th>\n",
       "      <td>2</td>\n",
       "      <td>6</td>\n",
       "      <td>12</td>\n",
       "      <td>38</td>\n",
       "      <td>4</td>\n",
       "      <td>1</td>\n",
       "    </tr>\n",
       "    <tr>\n",
       "      <th>Actual WiiU</th>\n",
       "      <td>0</td>\n",
       "      <td>2</td>\n",
       "      <td>0</td>\n",
       "      <td>23</td>\n",
       "      <td>1</td>\n",
       "      <td>0</td>\n",
       "    </tr>\n",
       "    <tr>\n",
       "      <th>Actual 3DS</th>\n",
       "      <td>1</td>\n",
       "      <td>3</td>\n",
       "      <td>4</td>\n",
       "      <td>11</td>\n",
       "      <td>4</td>\n",
       "      <td>1</td>\n",
       "    </tr>\n",
       "    <tr>\n",
       "      <th>Actual PSV</th>\n",
       "      <td>0</td>\n",
       "      <td>3</td>\n",
       "      <td>9</td>\n",
       "      <td>16</td>\n",
       "      <td>5</td>\n",
       "      <td>5</td>\n",
       "    </tr>\n",
       "  </tbody>\n",
       "</table>\n",
       "</div>"
      ],
      "text/plain": [
       "             Predicted PS4  Predicted PC  Predicted XOne  Predicted WiiU  \\\n",
       "Actual PS4               1             2               4              11   \n",
       "Actual PC                1             1               3              38   \n",
       "Actual XOne              2             6              12              38   \n",
       "Actual WiiU              0             2               0              23   \n",
       "Actual 3DS               1             3               4              11   \n",
       "Actual PSV               0             3               9              16   \n",
       "\n",
       "             Predicted 3DS  Predicted PSV  \n",
       "Actual PS4               0              1  \n",
       "Actual PC                3              1  \n",
       "Actual XOne              4              1  \n",
       "Actual WiiU              1              0  \n",
       "Actual 3DS               4              1  \n",
       "Actual PSV               5              5  "
      ]
     },
     "execution_count": 71,
     "metadata": {},
     "output_type": "execute_result"
    }
   ],
   "source": [
    "# Create a DataFrame from the confusion matrix.\n",
    "Undersampling_cm = confusion_matrix(y_test, y_pred)\n",
    "\n",
    "Undersampling_cm_df = pd.DataFrame(\n",
    "    Undersampling_cm, \n",
    "    index=[\"Actual PS4\", \"Actual PC\", \"Actual XOne\", \"Actual WiiU\", \"Actual 3DS\", \"Actual PSV\"], \n",
    "    columns=[\"Predicted PS4\", \"Predicted PC\", \"Predicted XOne\", \"Predicted WiiU\", \"Predicted 3DS\", \"Predicted PSV\"])\n",
    "\n",
    "Undersampling_cm_df"
   ]
  },
  {
   "cell_type": "code",
   "execution_count": 72,
   "metadata": {},
   "outputs": [
    {
     "name": "stdout",
     "output_type": "stream",
     "text": [
      "C:\\Program Files\\Google\\Chrome\\Application\\chrome.exe\n",
      "C:\\Program Files\\Google\\Chrome\\Application\\chrome.exe\n"
     ]
    }
   ],
   "source": [
    "dfi.export(Undersampling_cm_df, \"analysis/Undersampling By Platform.png\")"
   ]
  },
  {
   "cell_type": "code",
   "execution_count": 73,
   "metadata": {},
   "outputs": [
    {
     "name": "stdout",
     "output_type": "stream",
     "text": [
      "Undersampling By Platform\n",
      "\n",
      "\n",
      "Accuracy: 24.12% \n",
      "\n",
      "\n",
      "                   pre       rec       spe        f1       geo       iba       sup\n",
      "\n",
      "        3DS       0.20      0.05      0.98      0.08      0.23      0.05        19\n",
      "         PC       0.06      0.02      0.91      0.03      0.14      0.02        47\n",
      "        PS4       0.38      0.19      0.87      0.25      0.41      0.15        63\n",
      "        PSV       0.17      0.88      0.40      0.28      0.60      0.37        26\n",
      "       WiiU       0.24      0.17      0.93      0.20      0.39      0.14        24\n",
      "       XOne       0.56      0.13      0.98      0.21      0.36      0.12        38\n",
      "\n",
      "avg / total       0.28      0.21      0.86      0.18      0.35      0.13       217\n",
      "\n"
     ]
    }
   ],
   "source": [
    "# Print the imbalanced classification report\n",
    "from imblearn.metrics import classification_report_imbalanced\n",
    "\n",
    "print(\"Undersampling By Platform\")\n",
    "print(\"\\n\")\n",
    "print(f\"Accuracy: { balanced_accuracy_score(y_test, y_pred) * 100:.2f}% \\n\\n\")\n",
    "print(classification_report_imbalanced(y_test, y_pred))"
   ]
  },
  {
   "attachments": {},
   "cell_type": "markdown",
   "metadata": {},
   "source": [
    "### Undersampling by Rating"
   ]
  },
  {
   "cell_type": "code",
   "execution_count": 74,
   "metadata": {},
   "outputs": [],
   "source": [
    "target = [\"Rating\"]\n",
    "\n",
    "# Create our features\n",
    "X = pd.get_dummies(game_df.drop(columns='Rating').copy())\n",
    "\n",
    "# Create our target\n",
    "y = game_df[target].copy()"
   ]
  },
  {
   "cell_type": "code",
   "execution_count": 75,
   "metadata": {},
   "outputs": [],
   "source": [
    "X_train, X_test, y_train, y_test = train_test_split(X, y, random_state=1)"
   ]
  },
  {
   "cell_type": "code",
   "execution_count": 76,
   "metadata": {},
   "outputs": [
    {
     "data": {
      "text/plain": [
       "Counter({'Rating': 1})"
      ]
     },
     "execution_count": 76,
     "metadata": {},
     "output_type": "execute_result"
    }
   ],
   "source": [
    "# Resample the data using the ClusterCentroids resampler\n",
    "# Warning: This is a large dataset, and this step may take some time to complete\n",
    "\n",
    "cc = ClusterCentroids(random_state=1)\n",
    "X_resampled, y_resampled = cc.fit_resample(X_train, y_train)\n",
    "\n",
    "Counter(y_resampled)"
   ]
  },
  {
   "cell_type": "code",
   "execution_count": 77,
   "metadata": {},
   "outputs": [
    {
     "data": {
      "text/plain": [
       "LogisticRegression(random_state=78)"
      ]
     },
     "execution_count": 77,
     "metadata": {},
     "output_type": "execute_result"
    }
   ],
   "source": [
    "# Train the Logistic Regression model using the resampled data\n",
    "\n",
    "model = LogisticRegression(solver='lbfgs', random_state=78)\n",
    "\n",
    "model.fit(X_resampled, y_resampled)"
   ]
  },
  {
   "cell_type": "code",
   "execution_count": 78,
   "metadata": {},
   "outputs": [
    {
     "data": {
      "text/plain": [
       "0.0"
      ]
     },
     "execution_count": 78,
     "metadata": {},
     "output_type": "execute_result"
    }
   ],
   "source": [
    "# Calculated the balanced accuracy score\n",
    "balanced_accuracy_score(y_test, y_pred)"
   ]
  },
  {
   "cell_type": "code",
   "execution_count": 79,
   "metadata": {},
   "outputs": [
    {
     "data": {
      "text/plain": [
       "array([[ 6, 35, 14,  0],\n",
       "       [ 0, 24,  4, 12],\n",
       "       [ 3, 56, 17,  7],\n",
       "       [ 0, 33,  4,  2]], dtype=int64)"
      ]
     },
     "execution_count": 79,
     "metadata": {},
     "output_type": "execute_result"
    }
   ],
   "source": [
    "y_pred = model.predict(X_test)\n",
    "\n",
    "confusion_matrix(y_test, y_pred)"
   ]
  },
  {
   "cell_type": "code",
   "execution_count": 80,
   "metadata": {},
   "outputs": [
    {
     "data": {
      "text/html": [
       "<div>\n",
       "<style scoped>\n",
       "    .dataframe tbody tr th:only-of-type {\n",
       "        vertical-align: middle;\n",
       "    }\n",
       "\n",
       "    .dataframe tbody tr th {\n",
       "        vertical-align: top;\n",
       "    }\n",
       "\n",
       "    .dataframe thead th {\n",
       "        text-align: right;\n",
       "    }\n",
       "</style>\n",
       "<table border=\"1\" class=\"dataframe\">\n",
       "  <thead>\n",
       "    <tr style=\"text-align: right;\">\n",
       "      <th></th>\n",
       "      <th>Predicted M</th>\n",
       "      <th>Predicted T</th>\n",
       "      <th>Predicted E</th>\n",
       "      <th>Predicted E10+</th>\n",
       "    </tr>\n",
       "  </thead>\n",
       "  <tbody>\n",
       "    <tr>\n",
       "      <th>Actual M</th>\n",
       "      <td>6</td>\n",
       "      <td>35</td>\n",
       "      <td>14</td>\n",
       "      <td>0</td>\n",
       "    </tr>\n",
       "    <tr>\n",
       "      <th>Actual T</th>\n",
       "      <td>0</td>\n",
       "      <td>24</td>\n",
       "      <td>4</td>\n",
       "      <td>12</td>\n",
       "    </tr>\n",
       "    <tr>\n",
       "      <th>Actual E</th>\n",
       "      <td>3</td>\n",
       "      <td>56</td>\n",
       "      <td>17</td>\n",
       "      <td>7</td>\n",
       "    </tr>\n",
       "    <tr>\n",
       "      <th>Actual E10+</th>\n",
       "      <td>0</td>\n",
       "      <td>33</td>\n",
       "      <td>4</td>\n",
       "      <td>2</td>\n",
       "    </tr>\n",
       "  </tbody>\n",
       "</table>\n",
       "</div>"
      ],
      "text/plain": [
       "             Predicted M  Predicted T  Predicted E  Predicted E10+\n",
       "Actual M               6           35           14               0\n",
       "Actual T               0           24            4              12\n",
       "Actual E               3           56           17               7\n",
       "Actual E10+            0           33            4               2"
      ]
     },
     "execution_count": 80,
     "metadata": {},
     "output_type": "execute_result"
    }
   ],
   "source": [
    "# Create a DataFrame from the confusion matrix.\n",
    "Undersampling_cm = confusion_matrix(y_test, y_pred)\n",
    "\n",
    "Undersampling_cm_df = pd.DataFrame(\n",
    "    Undersampling_cm, \n",
    "    index=[\"Actual M\", \"Actual T\", \"Actual E\", \"Actual E10+\"], \n",
    "    columns=[\"Predicted M\", \"Predicted T\", \"Predicted E\", \"Predicted E10+\"])\n",
    "\n",
    "Undersampling_cm_df"
   ]
  },
  {
   "cell_type": "code",
   "execution_count": 81,
   "metadata": {},
   "outputs": [
    {
     "name": "stdout",
     "output_type": "stream",
     "text": [
      "C:\\Program Files\\Google\\Chrome\\Application\\chrome.exe\n"
     ]
    }
   ],
   "source": [
    "dfi.export(Undersampling_cm_df, \"analysis/Undersampling By Rating.png\")"
   ]
  },
  {
   "cell_type": "code",
   "execution_count": 82,
   "metadata": {},
   "outputs": [
    {
     "name": "stdout",
     "output_type": "stream",
     "text": [
      "Undersampling by Rating\n",
      "\n",
      "\n",
      "Accuracy: 24.13% \n",
      "\n",
      "\n",
      "                   pre       rec       spe        f1       geo       iba       sup\n",
      "\n",
      "          E       0.67      0.11      0.98      0.19      0.33      0.10        55\n",
      "       E10+       0.16      0.60      0.30      0.26      0.42      0.19        40\n",
      "          M       0.44      0.20      0.84      0.28      0.41      0.16        83\n",
      "          T       0.10      0.05      0.89      0.07      0.21      0.04        39\n",
      "\n",
      "avg / total       0.38      0.23      0.78      0.21      0.36      0.13       217\n",
      "\n"
     ]
    }
   ],
   "source": [
    "# Print the imbalanced classification report\n",
    "print(\"Undersampling by Rating\")\n",
    "print(\"\\n\")\n",
    "print(f\"Accuracy: { balanced_accuracy_score(y_test, y_pred) * 100:.2f}% \\n\\n\")\n",
    "print(classification_report_imbalanced(y_test, y_pred))"
   ]
  },
  {
   "attachments": {},
   "cell_type": "markdown",
   "metadata": {},
   "source": [
    "### Undersampling by Genre"
   ]
  },
  {
   "cell_type": "code",
   "execution_count": 83,
   "metadata": {},
   "outputs": [],
   "source": [
    "target = [\"Genre\"]\n",
    "\n",
    "# Create our features\n",
    "X = pd.get_dummies(game_df.drop(columns='Genre').copy())\n",
    "\n",
    "# Create our target\n",
    "y = game_df[target].copy()"
   ]
  },
  {
   "cell_type": "code",
   "execution_count": 84,
   "metadata": {},
   "outputs": [],
   "source": [
    "X_train, X_test, y_train, y_test = train_test_split(X, y, random_state=1)"
   ]
  },
  {
   "cell_type": "code",
   "execution_count": 85,
   "metadata": {},
   "outputs": [
    {
     "data": {
      "text/plain": [
       "Counter({'Genre': 1})"
      ]
     },
     "execution_count": 85,
     "metadata": {},
     "output_type": "execute_result"
    }
   ],
   "source": [
    "# Resample the data using the ClusterCentroids resampler\n",
    "# Warning: This is a large dataset, and this step may take some time to complete\n",
    "\n",
    "cc = ClusterCentroids(random_state=1)\n",
    "X_resampled, y_resampled = cc.fit_resample(X_train, y_train)\n",
    "\n",
    "Counter(y_resampled)"
   ]
  },
  {
   "cell_type": "code",
   "execution_count": 86,
   "metadata": {},
   "outputs": [
    {
     "data": {
      "text/plain": [
       "LogisticRegression(random_state=78)"
      ]
     },
     "execution_count": 86,
     "metadata": {},
     "output_type": "execute_result"
    }
   ],
   "source": [
    "# Train the Logistic Regression model using the resampled data\n",
    "\n",
    "model = LogisticRegression(solver='lbfgs', random_state=78)\n",
    "\n",
    "model.fit(X_resampled, y_resampled)"
   ]
  },
  {
   "cell_type": "code",
   "execution_count": 87,
   "metadata": {},
   "outputs": [
    {
     "data": {
      "text/plain": [
       "0.0"
      ]
     },
     "execution_count": 87,
     "metadata": {},
     "output_type": "execute_result"
    }
   ],
   "source": [
    "# Calculated the balanced accuracy score\n",
    "balanced_accuracy_score(y_test, y_pred)"
   ]
  },
  {
   "cell_type": "code",
   "execution_count": 88,
   "metadata": {},
   "outputs": [
    {
     "data": {
      "text/plain": [
       "array([[ 2,  2,  4,  1,  2, 51,  3,  2,  2,  0,  0,  4],\n",
       "       [ 0,  0,  0,  1,  0,  6,  0,  0,  0,  0,  0,  0],\n",
       "       [ 0,  0,  0,  0,  0,  3,  0,  0,  0,  0,  0,  0],\n",
       "       [ 1,  2,  1,  0,  0,  7,  0,  0,  0,  0,  0,  2],\n",
       "       [ 1,  0,  0,  1,  0,  7,  2,  0,  0,  0,  0,  0],\n",
       "       [ 0,  0,  0,  0,  0,  3,  0,  0,  0,  0,  0,  0],\n",
       "       [ 0,  0,  1,  0,  0, 11,  0,  0,  0,  0,  0,  1],\n",
       "       [ 1,  1,  1,  0,  0, 21,  0,  0,  0,  0,  0,  1],\n",
       "       [ 2,  0,  1,  3,  3, 16,  0,  1,  1,  0,  1,  5],\n",
       "       [ 0,  0,  0,  0,  0,  2,  0,  0,  0,  0,  0,  0],\n",
       "       [ 1,  2,  3,  2,  2, 14,  2,  1,  0,  0,  1,  2],\n",
       "       [ 0,  0,  0,  0,  0,  3,  0,  0,  0,  0,  0,  1]], dtype=int64)"
      ]
     },
     "execution_count": 88,
     "metadata": {},
     "output_type": "execute_result"
    }
   ],
   "source": [
    "y_pred = model.predict(X_test)\n",
    "\n",
    "confusion_matrix(y_test, y_pred)"
   ]
  },
  {
   "cell_type": "code",
   "execution_count": 89,
   "metadata": {},
   "outputs": [
    {
     "data": {
      "text/html": [
       "<div>\n",
       "<style scoped>\n",
       "    .dataframe tbody tr th:only-of-type {\n",
       "        vertical-align: middle;\n",
       "    }\n",
       "\n",
       "    .dataframe tbody tr th {\n",
       "        vertical-align: top;\n",
       "    }\n",
       "\n",
       "    .dataframe thead th {\n",
       "        text-align: right;\n",
       "    }\n",
       "</style>\n",
       "<table border=\"1\" class=\"dataframe\">\n",
       "  <thead>\n",
       "    <tr style=\"text-align: right;\">\n",
       "      <th></th>\n",
       "      <th>Predicted Action</th>\n",
       "      <th>Predicted Shooter</th>\n",
       "      <th>Predicted Sports</th>\n",
       "      <th>Predicted Role-Playing</th>\n",
       "      <th>Predicted Racing</th>\n",
       "      <th>Predicted Platform</th>\n",
       "      <th>Predicted Misc</th>\n",
       "      <th>Predicted Adventure</th>\n",
       "      <th>Predicted Fighting</th>\n",
       "      <th>Predicted Strategy</th>\n",
       "      <th>Predicted Simulation</th>\n",
       "      <th>Predicted Puzzle</th>\n",
       "    </tr>\n",
       "  </thead>\n",
       "  <tbody>\n",
       "    <tr>\n",
       "      <th>Actual Action</th>\n",
       "      <td>2</td>\n",
       "      <td>2</td>\n",
       "      <td>4</td>\n",
       "      <td>1</td>\n",
       "      <td>2</td>\n",
       "      <td>51</td>\n",
       "      <td>3</td>\n",
       "      <td>2</td>\n",
       "      <td>2</td>\n",
       "      <td>0</td>\n",
       "      <td>0</td>\n",
       "      <td>4</td>\n",
       "    </tr>\n",
       "    <tr>\n",
       "      <th>Actual Shooter</th>\n",
       "      <td>0</td>\n",
       "      <td>0</td>\n",
       "      <td>0</td>\n",
       "      <td>1</td>\n",
       "      <td>0</td>\n",
       "      <td>6</td>\n",
       "      <td>0</td>\n",
       "      <td>0</td>\n",
       "      <td>0</td>\n",
       "      <td>0</td>\n",
       "      <td>0</td>\n",
       "      <td>0</td>\n",
       "    </tr>\n",
       "    <tr>\n",
       "      <th>Actual Sports</th>\n",
       "      <td>0</td>\n",
       "      <td>0</td>\n",
       "      <td>0</td>\n",
       "      <td>0</td>\n",
       "      <td>0</td>\n",
       "      <td>3</td>\n",
       "      <td>0</td>\n",
       "      <td>0</td>\n",
       "      <td>0</td>\n",
       "      <td>0</td>\n",
       "      <td>0</td>\n",
       "      <td>0</td>\n",
       "    </tr>\n",
       "    <tr>\n",
       "      <th>Actual Role-Playing</th>\n",
       "      <td>1</td>\n",
       "      <td>2</td>\n",
       "      <td>1</td>\n",
       "      <td>0</td>\n",
       "      <td>0</td>\n",
       "      <td>7</td>\n",
       "      <td>0</td>\n",
       "      <td>0</td>\n",
       "      <td>0</td>\n",
       "      <td>0</td>\n",
       "      <td>0</td>\n",
       "      <td>2</td>\n",
       "    </tr>\n",
       "    <tr>\n",
       "      <th>Actual Racing</th>\n",
       "      <td>1</td>\n",
       "      <td>0</td>\n",
       "      <td>0</td>\n",
       "      <td>1</td>\n",
       "      <td>0</td>\n",
       "      <td>7</td>\n",
       "      <td>2</td>\n",
       "      <td>0</td>\n",
       "      <td>0</td>\n",
       "      <td>0</td>\n",
       "      <td>0</td>\n",
       "      <td>0</td>\n",
       "    </tr>\n",
       "    <tr>\n",
       "      <th>Actual Platform</th>\n",
       "      <td>0</td>\n",
       "      <td>0</td>\n",
       "      <td>0</td>\n",
       "      <td>0</td>\n",
       "      <td>0</td>\n",
       "      <td>3</td>\n",
       "      <td>0</td>\n",
       "      <td>0</td>\n",
       "      <td>0</td>\n",
       "      <td>0</td>\n",
       "      <td>0</td>\n",
       "      <td>0</td>\n",
       "    </tr>\n",
       "    <tr>\n",
       "      <th>Actual Misc</th>\n",
       "      <td>0</td>\n",
       "      <td>0</td>\n",
       "      <td>1</td>\n",
       "      <td>0</td>\n",
       "      <td>0</td>\n",
       "      <td>11</td>\n",
       "      <td>0</td>\n",
       "      <td>0</td>\n",
       "      <td>0</td>\n",
       "      <td>0</td>\n",
       "      <td>0</td>\n",
       "      <td>1</td>\n",
       "    </tr>\n",
       "    <tr>\n",
       "      <th>Actual Adventure</th>\n",
       "      <td>1</td>\n",
       "      <td>1</td>\n",
       "      <td>1</td>\n",
       "      <td>0</td>\n",
       "      <td>0</td>\n",
       "      <td>21</td>\n",
       "      <td>0</td>\n",
       "      <td>0</td>\n",
       "      <td>0</td>\n",
       "      <td>0</td>\n",
       "      <td>0</td>\n",
       "      <td>1</td>\n",
       "    </tr>\n",
       "    <tr>\n",
       "      <th>Actual Fighting</th>\n",
       "      <td>2</td>\n",
       "      <td>0</td>\n",
       "      <td>1</td>\n",
       "      <td>3</td>\n",
       "      <td>3</td>\n",
       "      <td>16</td>\n",
       "      <td>0</td>\n",
       "      <td>1</td>\n",
       "      <td>1</td>\n",
       "      <td>0</td>\n",
       "      <td>1</td>\n",
       "      <td>5</td>\n",
       "    </tr>\n",
       "    <tr>\n",
       "      <th>Actual Strategy</th>\n",
       "      <td>0</td>\n",
       "      <td>0</td>\n",
       "      <td>0</td>\n",
       "      <td>0</td>\n",
       "      <td>0</td>\n",
       "      <td>2</td>\n",
       "      <td>0</td>\n",
       "      <td>0</td>\n",
       "      <td>0</td>\n",
       "      <td>0</td>\n",
       "      <td>0</td>\n",
       "      <td>0</td>\n",
       "    </tr>\n",
       "    <tr>\n",
       "      <th>Actual Simulation</th>\n",
       "      <td>1</td>\n",
       "      <td>2</td>\n",
       "      <td>3</td>\n",
       "      <td>2</td>\n",
       "      <td>2</td>\n",
       "      <td>14</td>\n",
       "      <td>2</td>\n",
       "      <td>1</td>\n",
       "      <td>0</td>\n",
       "      <td>0</td>\n",
       "      <td>1</td>\n",
       "      <td>2</td>\n",
       "    </tr>\n",
       "    <tr>\n",
       "      <th>Actual Puzzle</th>\n",
       "      <td>0</td>\n",
       "      <td>0</td>\n",
       "      <td>0</td>\n",
       "      <td>0</td>\n",
       "      <td>0</td>\n",
       "      <td>3</td>\n",
       "      <td>0</td>\n",
       "      <td>0</td>\n",
       "      <td>0</td>\n",
       "      <td>0</td>\n",
       "      <td>0</td>\n",
       "      <td>1</td>\n",
       "    </tr>\n",
       "  </tbody>\n",
       "</table>\n",
       "</div>"
      ],
      "text/plain": [
       "                     Predicted Action  Predicted Shooter  Predicted Sports  \\\n",
       "Actual Action                       2                  2                 4   \n",
       "Actual Shooter                      0                  0                 0   \n",
       "Actual Sports                       0                  0                 0   \n",
       "Actual Role-Playing                 1                  2                 1   \n",
       "Actual Racing                       1                  0                 0   \n",
       "Actual Platform                     0                  0                 0   \n",
       "Actual Misc                         0                  0                 1   \n",
       "Actual Adventure                    1                  1                 1   \n",
       "Actual Fighting                     2                  0                 1   \n",
       "Actual Strategy                     0                  0                 0   \n",
       "Actual Simulation                   1                  2                 3   \n",
       "Actual Puzzle                       0                  0                 0   \n",
       "\n",
       "                     Predicted Role-Playing  Predicted Racing  \\\n",
       "Actual Action                             1                 2   \n",
       "Actual Shooter                            1                 0   \n",
       "Actual Sports                             0                 0   \n",
       "Actual Role-Playing                       0                 0   \n",
       "Actual Racing                             1                 0   \n",
       "Actual Platform                           0                 0   \n",
       "Actual Misc                               0                 0   \n",
       "Actual Adventure                          0                 0   \n",
       "Actual Fighting                           3                 3   \n",
       "Actual Strategy                           0                 0   \n",
       "Actual Simulation                         2                 2   \n",
       "Actual Puzzle                             0                 0   \n",
       "\n",
       "                     Predicted Platform  Predicted Misc  Predicted Adventure  \\\n",
       "Actual Action                        51               3                    2   \n",
       "Actual Shooter                        6               0                    0   \n",
       "Actual Sports                         3               0                    0   \n",
       "Actual Role-Playing                   7               0                    0   \n",
       "Actual Racing                         7               2                    0   \n",
       "Actual Platform                       3               0                    0   \n",
       "Actual Misc                          11               0                    0   \n",
       "Actual Adventure                     21               0                    0   \n",
       "Actual Fighting                      16               0                    1   \n",
       "Actual Strategy                       2               0                    0   \n",
       "Actual Simulation                    14               2                    1   \n",
       "Actual Puzzle                         3               0                    0   \n",
       "\n",
       "                     Predicted Fighting  Predicted Strategy  \\\n",
       "Actual Action                         2                   0   \n",
       "Actual Shooter                        0                   0   \n",
       "Actual Sports                         0                   0   \n",
       "Actual Role-Playing                   0                   0   \n",
       "Actual Racing                         0                   0   \n",
       "Actual Platform                       0                   0   \n",
       "Actual Misc                           0                   0   \n",
       "Actual Adventure                      0                   0   \n",
       "Actual Fighting                       1                   0   \n",
       "Actual Strategy                       0                   0   \n",
       "Actual Simulation                     0                   0   \n",
       "Actual Puzzle                         0                   0   \n",
       "\n",
       "                     Predicted Simulation  Predicted Puzzle  \n",
       "Actual Action                           0                 4  \n",
       "Actual Shooter                          0                 0  \n",
       "Actual Sports                           0                 0  \n",
       "Actual Role-Playing                     0                 2  \n",
       "Actual Racing                           0                 0  \n",
       "Actual Platform                         0                 0  \n",
       "Actual Misc                             0                 1  \n",
       "Actual Adventure                        0                 1  \n",
       "Actual Fighting                         1                 5  \n",
       "Actual Strategy                         0                 0  \n",
       "Actual Simulation                       1                 2  \n",
       "Actual Puzzle                           0                 1  "
      ]
     },
     "execution_count": 89,
     "metadata": {},
     "output_type": "execute_result"
    }
   ],
   "source": [
    "# Create a DataFrame from the confusion matrix.\n",
    "Undersampling_cm = confusion_matrix(y_test, y_pred)\n",
    "\n",
    "Undersampling_cm_df = pd.DataFrame(\n",
    "    Undersampling_cm, \n",
    "    index=[\"Actual Action\", \"Actual Shooter\", \"Actual Sports\", \"Actual Role-Playing\", \"Actual Racing\", \"Actual Platform\", \"Actual Misc\", \"Actual Adventure\", \"Actual Fighting\", \"Actual Strategy\", \"Actual Simulation\", \"Actual Puzzle\"], \n",
    "    columns=[\"Predicted Action\", \"Predicted Shooter\", \"Predicted Sports\", \"Predicted Role-Playing\", \"Predicted Racing\", \"Predicted Platform\", \"Predicted Misc\", \"Predicted Adventure\", \"Predicted Fighting\", \"Predicted Strategy\", \"Predicted Simulation\", \"Predicted Puzzle\"])\n",
    "\n",
    "Undersampling_cm_df"
   ]
  },
  {
   "cell_type": "code",
   "execution_count": 90,
   "metadata": {},
   "outputs": [
    {
     "name": "stdout",
     "output_type": "stream",
     "text": [
      "C:\\Program Files\\Google\\Chrome\\Application\\chrome.exe\n",
      "C:\\Program Files\\Google\\Chrome\\Application\\chrome.exe\n",
      "C:\\Program Files\\Google\\Chrome\\Application\\chrome.exe\n",
      "C:\\Program Files\\Google\\Chrome\\Application\\chrome.exe\n",
      "C:\\Program Files\\Google\\Chrome\\Application\\chrome.exe\n",
      "C:\\Program Files\\Google\\Chrome\\Application\\chrome.exe\n"
     ]
    }
   ],
   "source": [
    "dfi.export(Undersampling_cm_df, \"analysis/Undersampling By Genre.png\")"
   ]
  },
  {
   "cell_type": "code",
   "execution_count": 91,
   "metadata": {},
   "outputs": [
    {
     "name": "stdout",
     "output_type": "stream",
     "text": [
      "Undersampling By Genre\n",
      "\n",
      "\n",
      "Accuracy: 11.18% \n",
      "\n",
      "\n",
      "                    pre       rec       spe        f1       geo       iba       sup\n",
      "\n",
      "      Action       0.25      0.03      0.96      0.05      0.16      0.02        73\n",
      "   Adventure       0.00      0.00      0.97      0.00      0.00      0.00         7\n",
      "    Fighting       0.00      0.00      0.95      0.00      0.00      0.00         3\n",
      "        Misc       0.00      0.00      0.96      0.00      0.00      0.00        13\n",
      "    Platform       0.00      0.00      0.97      0.00      0.00      0.00        11\n",
      "      Puzzle       0.02      1.00      0.34      0.04      0.58      0.36         3\n",
      "      Racing       0.00      0.00      0.97      0.00      0.00      0.00        13\n",
      "Role-Playing       0.00      0.00      0.98      0.00      0.00      0.00        25\n",
      "     Shooter       0.33      0.03      0.99      0.06      0.17      0.03        33\n",
      "  Simulation       0.00      0.00      1.00      0.00      0.00      0.00         2\n",
      "      Sports       0.50      0.03      0.99      0.06      0.18      0.03        30\n",
      "    Strategy       0.06      0.25      0.93      0.10      0.48      0.22         4\n",
      "\n",
      " avg / total       0.21      0.04      0.96      0.04      0.12      0.03       217\n",
      "\n"
     ]
    }
   ],
   "source": [
    "# Print the imbalanced classification report\n",
    "print(\"Undersampling By Genre\")\n",
    "print(\"\\n\")\n",
    "print(f\"Accuracy: { balanced_accuracy_score(y_test, y_pred) * 100:.2f}% \\n\\n\")\n",
    "print(classification_report_imbalanced(y_test, y_pred))"
   ]
  },
  {
   "attachments": {},
   "cell_type": "markdown",
   "metadata": {},
   "source": [
    "# Combination (Over and Under) Sampling"
   ]
  },
  {
   "attachments": {},
   "cell_type": "markdown",
   "metadata": {},
   "source": [
    "### Combination (Over and Under) Sampling by Platform"
   ]
  },
  {
   "cell_type": "code",
   "execution_count": 92,
   "metadata": {},
   "outputs": [],
   "source": [
    "target = [\"Platform\"]\n",
    "\n",
    "# Create our features\n",
    "X = pd.get_dummies(game_df.drop(columns='Platform').copy())\n",
    "\n",
    "# Create our target\n",
    "y = game_df[target].copy()"
   ]
  },
  {
   "cell_type": "code",
   "execution_count": 93,
   "metadata": {},
   "outputs": [],
   "source": [
    "X_train, X_test, y_train, y_test = train_test_split(X, y, random_state=1)"
   ]
  },
  {
   "cell_type": "code",
   "execution_count": 94,
   "metadata": {},
   "outputs": [
    {
     "data": {
      "text/plain": [
       "Counter({'Platform': 1})"
      ]
     },
     "execution_count": 94,
     "metadata": {},
     "output_type": "execute_result"
    }
   ],
   "source": [
    "# Resample the training data with SMOTEENN\n",
    "# Warning: This is a large dataset, and this step may take some time to complete\n",
    "from imblearn.combine import SMOTEENN\n",
    "\n",
    "smote_enn = SMOTEENN(random_state=0)\n",
    "X_resampled, y_resampled = smote_enn.fit_resample(X, y)\n",
    "\n",
    "Counter(y_resampled)"
   ]
  },
  {
   "cell_type": "code",
   "execution_count": 95,
   "metadata": {},
   "outputs": [
    {
     "data": {
      "text/plain": [
       "LogisticRegression(random_state=1)"
      ]
     },
     "execution_count": 95,
     "metadata": {},
     "output_type": "execute_result"
    }
   ],
   "source": [
    "# Train the Logistic Regression model using the resampled data\n",
    "from sklearn.linear_model import LogisticRegression\n",
    "\n",
    "model = LogisticRegression(solver='lbfgs', random_state=1)\n",
    "\n",
    "model.fit(X_resampled, y_resampled)"
   ]
  },
  {
   "cell_type": "code",
   "execution_count": 96,
   "metadata": {},
   "outputs": [
    {
     "data": {
      "text/plain": [
       "0.0"
      ]
     },
     "execution_count": 96,
     "metadata": {},
     "output_type": "execute_result"
    }
   ],
   "source": [
    "# Calculated the balanced accuracy score\n",
    "from sklearn.metrics import balanced_accuracy_score\n",
    "\n",
    "balanced_accuracy_score(y_test, y_pred)"
   ]
  },
  {
   "cell_type": "code",
   "execution_count": 97,
   "metadata": {},
   "outputs": [
    {
     "data": {
      "text/plain": [
       "array([[ 0,  0,  1, 12,  1,  5],\n",
       "       [ 0,  6,  0, 32,  2,  7],\n",
       "       [ 0,  8,  8, 36,  4,  7],\n",
       "       [ 0,  1,  0, 22,  3,  0],\n",
       "       [ 0,  3,  1,  9,  3,  8],\n",
       "       [ 0,  2,  4, 17,  2, 13]], dtype=int64)"
      ]
     },
     "execution_count": 97,
     "metadata": {},
     "output_type": "execute_result"
    }
   ],
   "source": [
    "# Display the confusion matrix\n",
    "from sklearn.metrics import confusion_matrix\n",
    "\n",
    "y_pred = model.predict(X_test)\n",
    "\n",
    "confusion_matrix(y_test, y_pred)"
   ]
  },
  {
   "cell_type": "code",
   "execution_count": 98,
   "metadata": {},
   "outputs": [
    {
     "data": {
      "text/html": [
       "<div>\n",
       "<style scoped>\n",
       "    .dataframe tbody tr th:only-of-type {\n",
       "        vertical-align: middle;\n",
       "    }\n",
       "\n",
       "    .dataframe tbody tr th {\n",
       "        vertical-align: top;\n",
       "    }\n",
       "\n",
       "    .dataframe thead th {\n",
       "        text-align: right;\n",
       "    }\n",
       "</style>\n",
       "<table border=\"1\" class=\"dataframe\">\n",
       "  <thead>\n",
       "    <tr style=\"text-align: right;\">\n",
       "      <th></th>\n",
       "      <th>Predicted PS4</th>\n",
       "      <th>Predicted PC</th>\n",
       "      <th>Predicted XOne</th>\n",
       "      <th>Predicted WiiU</th>\n",
       "      <th>Predicted 3DS</th>\n",
       "      <th>Predicted PSV</th>\n",
       "    </tr>\n",
       "  </thead>\n",
       "  <tbody>\n",
       "    <tr>\n",
       "      <th>Actual PS4</th>\n",
       "      <td>0</td>\n",
       "      <td>0</td>\n",
       "      <td>1</td>\n",
       "      <td>12</td>\n",
       "      <td>1</td>\n",
       "      <td>5</td>\n",
       "    </tr>\n",
       "    <tr>\n",
       "      <th>Actual PC</th>\n",
       "      <td>0</td>\n",
       "      <td>6</td>\n",
       "      <td>0</td>\n",
       "      <td>32</td>\n",
       "      <td>2</td>\n",
       "      <td>7</td>\n",
       "    </tr>\n",
       "    <tr>\n",
       "      <th>Actual XOne</th>\n",
       "      <td>0</td>\n",
       "      <td>8</td>\n",
       "      <td>8</td>\n",
       "      <td>36</td>\n",
       "      <td>4</td>\n",
       "      <td>7</td>\n",
       "    </tr>\n",
       "    <tr>\n",
       "      <th>Actual WiiU</th>\n",
       "      <td>0</td>\n",
       "      <td>1</td>\n",
       "      <td>0</td>\n",
       "      <td>22</td>\n",
       "      <td>3</td>\n",
       "      <td>0</td>\n",
       "    </tr>\n",
       "    <tr>\n",
       "      <th>Actual 3DS</th>\n",
       "      <td>0</td>\n",
       "      <td>3</td>\n",
       "      <td>1</td>\n",
       "      <td>9</td>\n",
       "      <td>3</td>\n",
       "      <td>8</td>\n",
       "    </tr>\n",
       "    <tr>\n",
       "      <th>Actual PSV</th>\n",
       "      <td>0</td>\n",
       "      <td>2</td>\n",
       "      <td>4</td>\n",
       "      <td>17</td>\n",
       "      <td>2</td>\n",
       "      <td>13</td>\n",
       "    </tr>\n",
       "  </tbody>\n",
       "</table>\n",
       "</div>"
      ],
      "text/plain": [
       "             Predicted PS4  Predicted PC  Predicted XOne  Predicted WiiU  \\\n",
       "Actual PS4               0             0               1              12   \n",
       "Actual PC                0             6               0              32   \n",
       "Actual XOne              0             8               8              36   \n",
       "Actual WiiU              0             1               0              22   \n",
       "Actual 3DS               0             3               1               9   \n",
       "Actual PSV               0             2               4              17   \n",
       "\n",
       "             Predicted 3DS  Predicted PSV  \n",
       "Actual PS4               1              5  \n",
       "Actual PC                2              7  \n",
       "Actual XOne              4              7  \n",
       "Actual WiiU              3              0  \n",
       "Actual 3DS               3              8  \n",
       "Actual PSV               2             13  "
      ]
     },
     "execution_count": 98,
     "metadata": {},
     "output_type": "execute_result"
    }
   ],
   "source": [
    "# Create a DataFrame from the confusion matrix.\n",
    "COU_cm = confusion_matrix(y_test, y_pred)\n",
    "\n",
    "COU_cm_df = pd.DataFrame(\n",
    "    COU_cm, \n",
    "    index=[\"Actual PS4\", \"Actual PC\", \"Actual XOne\", \"Actual WiiU\", \"Actual 3DS\", \"Actual PSV\"], \n",
    "    columns=[\"Predicted PS4\", \"Predicted PC\", \"Predicted XOne\", \"Predicted WiiU\", \"Predicted 3DS\", \"Predicted PSV\"])\n",
    "\n",
    "COU_cm_df"
   ]
  },
  {
   "cell_type": "code",
   "execution_count": 99,
   "metadata": {},
   "outputs": [
    {
     "name": "stdout",
     "output_type": "stream",
     "text": [
      "C:\\Program Files\\Google\\Chrome\\Application\\chrome.exe\n",
      "C:\\Program Files\\Google\\Chrome\\Application\\chrome.exe\n"
     ]
    }
   ],
   "source": [
    "dfi.export(COU_cm_df, \"analysis/Combination (Over and Under) Sampling By Platform.png\")"
   ]
  },
  {
   "cell_type": "code",
   "execution_count": 100,
   "metadata": {},
   "outputs": [
    {
     "name": "stdout",
     "output_type": "stream",
     "text": [
      "Combination (Over and Under) Sampling By Platform\n",
      "\n",
      "\n",
      "Accuracy: 26.13% \n",
      "\n",
      "\n",
      "                   pre       rec       spe        f1       geo       iba       sup\n",
      "\n",
      "        3DS       0.00      0.00      1.00      0.00      0.00      0.00        19\n",
      "         PC       0.30      0.13      0.92      0.18      0.34      0.11        47\n",
      "        PS4       0.57      0.13      0.96      0.21      0.35      0.11        63\n",
      "        PSV       0.17      0.85      0.45      0.29      0.61      0.39        26\n",
      "       WiiU       0.20      0.12      0.94      0.15      0.34      0.11        24\n",
      "       XOne       0.33      0.34      0.85      0.33      0.54      0.28        38\n",
      "\n",
      "avg / total       0.33      0.24      0.87      0.21      0.38      0.16       217\n",
      "\n"
     ]
    }
   ],
   "source": [
    "# Print the imbalanced classification report\n",
    "from imblearn.metrics import classification_report_imbalanced\n",
    "\n",
    "print(\"Combination (Over and Under) Sampling By Platform\")\n",
    "print(\"\\n\")\n",
    "print(f\"Accuracy: { balanced_accuracy_score(y_test, y_pred) * 100:.2f}% \\n\\n\")\n",
    "print(classification_report_imbalanced(y_test, y_pred))"
   ]
  },
  {
   "attachments": {},
   "cell_type": "markdown",
   "metadata": {},
   "source": [
    "### Combination (Over and Under) Sampling by Rating"
   ]
  },
  {
   "cell_type": "code",
   "execution_count": 101,
   "metadata": {},
   "outputs": [],
   "source": [
    "target = [\"Rating\"]\n",
    "\n",
    "# Create our features\n",
    "X = pd.get_dummies(game_df.drop(columns='Rating').copy())\n",
    "\n",
    "# Create our target\n",
    "y = game_df[target].copy()"
   ]
  },
  {
   "cell_type": "code",
   "execution_count": 102,
   "metadata": {},
   "outputs": [],
   "source": [
    "X_train, X_test, y_train, y_test = train_test_split(X, y, random_state=1)"
   ]
  },
  {
   "cell_type": "code",
   "execution_count": 103,
   "metadata": {},
   "outputs": [
    {
     "data": {
      "text/plain": [
       "Counter({'Rating': 1})"
      ]
     },
     "execution_count": 103,
     "metadata": {},
     "output_type": "execute_result"
    }
   ],
   "source": [
    "smote_enn = SMOTEENN(random_state=0)\n",
    "X_resampled, y_resampled = smote_enn.fit_resample(X, y)\n",
    "\n",
    "Counter(y_resampled)"
   ]
  },
  {
   "cell_type": "code",
   "execution_count": 104,
   "metadata": {},
   "outputs": [
    {
     "data": {
      "text/plain": [
       "LogisticRegression(random_state=1)"
      ]
     },
     "execution_count": 104,
     "metadata": {},
     "output_type": "execute_result"
    }
   ],
   "source": [
    "# Train the Logistic Regression model using the resampled data\n",
    "model = LogisticRegression(solver='lbfgs', random_state=1)\n",
    "\n",
    "model.fit(X_resampled, y_resampled)"
   ]
  },
  {
   "cell_type": "code",
   "execution_count": 105,
   "metadata": {},
   "outputs": [
    {
     "data": {
      "text/plain": [
       "0.0"
      ]
     },
     "execution_count": 105,
     "metadata": {},
     "output_type": "execute_result"
    }
   ],
   "source": [
    "# Calculated the balanced accuracy score\n",
    "balanced_accuracy_score(y_test, y_pred)"
   ]
  },
  {
   "cell_type": "code",
   "execution_count": 106,
   "metadata": {},
   "outputs": [
    {
     "data": {
      "text/plain": [
       "array([[10, 17,  6, 22],\n",
       "       [ 1, 23,  3, 13],\n",
       "       [ 8, 29,  9, 37],\n",
       "       [ 2, 14,  2, 21]], dtype=int64)"
      ]
     },
     "execution_count": 106,
     "metadata": {},
     "output_type": "execute_result"
    }
   ],
   "source": [
    "# Display the confusion matrix\n",
    "y_pred = model.predict(X_test)\n",
    "\n",
    "confusion_matrix(y_test, y_pred)"
   ]
  },
  {
   "cell_type": "code",
   "execution_count": 107,
   "metadata": {},
   "outputs": [
    {
     "data": {
      "text/html": [
       "<div>\n",
       "<style scoped>\n",
       "    .dataframe tbody tr th:only-of-type {\n",
       "        vertical-align: middle;\n",
       "    }\n",
       "\n",
       "    .dataframe tbody tr th {\n",
       "        vertical-align: top;\n",
       "    }\n",
       "\n",
       "    .dataframe thead th {\n",
       "        text-align: right;\n",
       "    }\n",
       "</style>\n",
       "<table border=\"1\" class=\"dataframe\">\n",
       "  <thead>\n",
       "    <tr style=\"text-align: right;\">\n",
       "      <th></th>\n",
       "      <th>Predicted M</th>\n",
       "      <th>Predicted T</th>\n",
       "      <th>Predicted E</th>\n",
       "      <th>Predicted E10+</th>\n",
       "    </tr>\n",
       "  </thead>\n",
       "  <tbody>\n",
       "    <tr>\n",
       "      <th>Actual M</th>\n",
       "      <td>10</td>\n",
       "      <td>17</td>\n",
       "      <td>6</td>\n",
       "      <td>22</td>\n",
       "    </tr>\n",
       "    <tr>\n",
       "      <th>Actual T</th>\n",
       "      <td>1</td>\n",
       "      <td>23</td>\n",
       "      <td>3</td>\n",
       "      <td>13</td>\n",
       "    </tr>\n",
       "    <tr>\n",
       "      <th>Actual E</th>\n",
       "      <td>8</td>\n",
       "      <td>29</td>\n",
       "      <td>9</td>\n",
       "      <td>37</td>\n",
       "    </tr>\n",
       "    <tr>\n",
       "      <th>Actual E10+</th>\n",
       "      <td>2</td>\n",
       "      <td>14</td>\n",
       "      <td>2</td>\n",
       "      <td>21</td>\n",
       "    </tr>\n",
       "  </tbody>\n",
       "</table>\n",
       "</div>"
      ],
      "text/plain": [
       "             Predicted M  Predicted T  Predicted E  Predicted E10+\n",
       "Actual M              10           17            6              22\n",
       "Actual T               1           23            3              13\n",
       "Actual E               8           29            9              37\n",
       "Actual E10+            2           14            2              21"
      ]
     },
     "execution_count": 107,
     "metadata": {},
     "output_type": "execute_result"
    }
   ],
   "source": [
    "# Create a DataFrame from the confusion matrix.\n",
    "COU_cm = confusion_matrix(y_test, y_pred)\n",
    "\n",
    "COU_cm_df = pd.DataFrame(\n",
    "    COU_cm, \n",
    "    index=[\"Actual M\", \"Actual T\", \"Actual E\", \"Actual E10+\"], \n",
    "    columns=[\"Predicted M\", \"Predicted T\", \"Predicted E\", \"Predicted E10+\"])\n",
    "\n",
    "COU_cm_df"
   ]
  },
  {
   "cell_type": "code",
   "execution_count": 108,
   "metadata": {},
   "outputs": [
    {
     "name": "stdout",
     "output_type": "stream",
     "text": [
      "C:\\Program Files\\Google\\Chrome\\Application\\chrome.exe\n"
     ]
    }
   ],
   "source": [
    "dfi.export(COU_cm_df, \"analysis/Combination (Over and Under) Sampling By Rating.png\")"
   ]
  },
  {
   "cell_type": "code",
   "execution_count": 109,
   "metadata": {},
   "outputs": [
    {
     "name": "stdout",
     "output_type": "stream",
     "text": [
      "Combination (Over and Under) Sampling By Rating\n",
      "\n",
      "\n",
      "Accuracy: 35.09% \n",
      "\n",
      "\n",
      "                   pre       rec       spe        f1       geo       iba       sup\n",
      "\n",
      "          E       0.48      0.18      0.93      0.26      0.41      0.16        55\n",
      "       E10+       0.28      0.57      0.66      0.37      0.62      0.38        40\n",
      "          M       0.45      0.11      0.92      0.17      0.32      0.09        83\n",
      "          T       0.23      0.54      0.60      0.32      0.57      0.32        39\n",
      "\n",
      "avg / total       0.38      0.29      0.82      0.26      0.44      0.20       217\n",
      "\n"
     ]
    }
   ],
   "source": [
    "# Print the imbalanced classification report\n",
    "print(\"Combination (Over and Under) Sampling By Rating\")\n",
    "print(\"\\n\")\n",
    "print(f\"Accuracy: { balanced_accuracy_score(y_test, y_pred) * 100:.2f}% \\n\\n\")\n",
    "print(classification_report_imbalanced(y_test, y_pred))"
   ]
  },
  {
   "attachments": {},
   "cell_type": "markdown",
   "metadata": {},
   "source": [
    "### Combination (Over and Under) Sampling by Genre"
   ]
  },
  {
   "cell_type": "code",
   "execution_count": 110,
   "metadata": {},
   "outputs": [],
   "source": [
    "# target = [\"Genre\"]\n",
    "\n",
    "# # Create our features\n",
    "# X = pd.get_dummies(game_df.drop(columns='Genre').copy())\n",
    "\n",
    "# # Create our target\n",
    "# y = game_df[target].copy()"
   ]
  },
  {
   "cell_type": "code",
   "execution_count": 111,
   "metadata": {},
   "outputs": [],
   "source": [
    "# X_train, X_test, y_train, y_test = train_test_split(X, y, random_state=1)"
   ]
  },
  {
   "cell_type": "code",
   "execution_count": 112,
   "metadata": {},
   "outputs": [],
   "source": [
    "# smote_enn = SMOTEENN(random_state=0)\n",
    "# X_resampled, y_resampled = smote_enn.fit_resample(X, y)\n",
    "\n",
    "# Counter(y_resampled)"
   ]
  },
  {
   "cell_type": "code",
   "execution_count": 113,
   "metadata": {},
   "outputs": [],
   "source": [
    "# Train the Logistic Regression model using the resampled data\n",
    "# model = LogisticRegression(solver='lbfgs', random_state=1)\n",
    "\n",
    "# model.fit(X_resampled, y_resampled)"
   ]
  },
  {
   "cell_type": "code",
   "execution_count": 114,
   "metadata": {},
   "outputs": [],
   "source": [
    "# Calculated the balanced accuracy score\n",
    "# balanced_accuracy_score(y_test, y_pred)"
   ]
  },
  {
   "cell_type": "code",
   "execution_count": 115,
   "metadata": {},
   "outputs": [],
   "source": [
    "# Display the confusion matrix\n",
    "# y_pred = model.predict(X_test)\n",
    "\n",
    "# confusion_matrix(y_test, y_pred)"
   ]
  },
  {
   "cell_type": "code",
   "execution_count": 116,
   "metadata": {},
   "outputs": [],
   "source": [
    "# Create a DataFrame from the confusion matrix.\n",
    "# COU_cm = confusion_matrix(y_test, y_pred)\n",
    "\n",
    "# COU_cm_df = pd.DataFrame(\n",
    "#     COU_cm, \n",
    "#     index=[\"Actual Action\", \"Actual Shooter\", \"Actual Sports\", \"Actual Role-Playing\", \"Actual Racing\", \"Actual Platform\", \"Actual Misc\", \"Actual Adventure\", \"Actual Fighting\", \"Actual Strategy\", \"Actual Simulation\", \"Actual Puzzle\"], \n",
    "#     columns=[\"Predicted Action\", \"Predicted Shooter\", \"Predicted Sports\", \"Predicted Role-Playing\", \"Predicted Racing\", \"Predicted Platform\", \"Predicted Misc\", \"Predicted Adventure\", \"Predicted Fighting\", \"Predicted Strategy\", \"Predicted Simulation\", \"Predicted Puzzle\"])\n",
    "\n",
    "# COU_cm_df"
   ]
  },
  {
   "cell_type": "code",
   "execution_count": 117,
   "metadata": {},
   "outputs": [],
   "source": [
    "# dfi.export(Undersampling_cm_df, \"analysis/Combination (Over and Under) Sampling by Genre.png\")"
   ]
  },
  {
   "cell_type": "code",
   "execution_count": 118,
   "metadata": {},
   "outputs": [],
   "source": [
    "# Print the imbalanced classification report\n",
    "# print(\"Combination (Over and Under) Sampling by Genre\")\n",
    "# print(\"\\n\")\n",
    "# print(f\"Accuracy: { balanced_accuracy_score(y_test, y_pred) * 100:.2f}% \\n\\n\")\n",
    "# print(classification_report_imbalanced(y_test, y_pred))"
   ]
  }
 ],
 "metadata": {
  "kernelspec": {
   "display_name": "mlenv",
   "language": "python",
   "name": "mlenv"
  },
  "language_info": {
   "codemirror_mode": {
    "name": "ipython",
    "version": 3
   },
   "file_extension": ".py",
   "mimetype": "text/x-python",
   "name": "python",
   "nbconvert_exporter": "python",
   "pygments_lexer": "ipython3",
   "version": "3.7.13"
  }
 },
 "nbformat": 4,
 "nbformat_minor": 2
}
